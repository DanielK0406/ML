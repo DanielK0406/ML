{
  "cells": [
    {
      "cell_type": "markdown",
      "id": "ad1d1330",
      "metadata": {},
      "source": [
        "# 100 numpy exercises\n",
        "\n",
        "This is a collection of exercises that have been collected in the numpy mailing list, on stack overflow\n",
        "and in the numpy documentation. The goal of this collection is to offer a quick reference for both old\n",
        "and new users but also to provide a set of exercises for those who teach.\n",
        "\n",
        "\n",
        "If you find an error or think you've a better way to solve some of them, feel\n",
        "free to open an issue at <https://github.com/rougier/numpy-100>."
      ]
    },
    {
      "cell_type": "markdown",
      "id": "1d620162",
      "metadata": {},
      "source": [
        "File automatically generated. See the documentation to update questions/answers/hints programmatically."
      ]
    },
    {
      "cell_type": "markdown",
      "id": "8574d627",
      "metadata": {},
      "source": [
        "Run the `initialize.py` module, then for each question you can query the\n",
        "answer or an hint with `hint(n)` or `answer(n)` for `n` question number."
      ]
    },
    {
      "cell_type": "code",
      "execution_count": null,
      "id": "c6fe8a29",
      "metadata": {},
      "outputs": [],
      "source": [
        "%run initialise.py"
      ]
    },
    {
      "cell_type": "markdown",
      "id": "954c5d8f",
      "metadata": {},
      "source": [
        "#### 1. Import the numpy package under the name `np` (★☆☆)"
      ]
    },
    {
      "cell_type": "code",
      "execution_count": 50,
      "id": "4006c08e",
      "metadata": {
        "tags": []
      },
      "outputs": [],
      "source": [
        "import numpy as np"
      ]
    },
    {
      "cell_type": "markdown",
      "id": "88e34f09",
      "metadata": {},
      "source": [
        "#### 2. Print the numpy version and the configuration (★☆☆)"
      ]
    },
    {
      "cell_type": "code",
      "execution_count": 8,
      "id": "b1122a25",
      "metadata": {
        "tags": []
      },
      "outputs": [
        {
          "name": "stdout",
          "output_type": "stream",
          "text": [
            "1.24.2\n",
            "openblas64__info:\n",
            "    libraries = ['openblas64_', 'openblas64_']\n",
            "    library_dirs = ['openblas\\\\lib']\n",
            "    language = c\n",
            "    define_macros = [('HAVE_CBLAS', None), ('BLAS_SYMBOL_SUFFIX', '64_'), ('HAVE_BLAS_ILP64', None)]\n",
            "    runtime_library_dirs = ['openblas\\\\lib']\n",
            "blas_ilp64_opt_info:\n",
            "    libraries = ['openblas64_', 'openblas64_']\n",
            "    library_dirs = ['openblas\\\\lib']\n",
            "    language = c\n",
            "    define_macros = [('HAVE_CBLAS', None), ('BLAS_SYMBOL_SUFFIX', '64_'), ('HAVE_BLAS_ILP64', None)]\n",
            "    runtime_library_dirs = ['openblas\\\\lib']\n",
            "openblas64__lapack_info:\n",
            "    libraries = ['openblas64_', 'openblas64_']\n",
            "    library_dirs = ['openblas\\\\lib']\n",
            "    language = c\n",
            "    define_macros = [('HAVE_CBLAS', None), ('BLAS_SYMBOL_SUFFIX', '64_'), ('HAVE_BLAS_ILP64', None), ('HAVE_LAPACKE', None)]\n",
            "    runtime_library_dirs = ['openblas\\\\lib']\n",
            "lapack_ilp64_opt_info:\n",
            "    libraries = ['openblas64_', 'openblas64_']\n",
            "    library_dirs = ['openblas\\\\lib']\n",
            "    language = c\n",
            "    define_macros = [('HAVE_CBLAS', None), ('BLAS_SYMBOL_SUFFIX', '64_'), ('HAVE_BLAS_ILP64', None), ('HAVE_LAPACKE', None)]\n",
            "    runtime_library_dirs = ['openblas\\\\lib']\n",
            "Supported SIMD extensions in this NumPy install:\n",
            "    baseline = SSE,SSE2,SSE3\n",
            "    found = SSSE3,SSE41,POPCNT,SSE42,AVX,F16C,FMA3,AVX2\n",
            "    not found = AVX512F,AVX512CD,AVX512_SKX,AVX512_CLX,AVX512_CNL,AVX512_ICL\n"
          ]
        }
      ],
      "source": [
        "print(np.__version__)\n",
        "np.show_config()"
      ]
    },
    {
      "cell_type": "markdown",
      "id": "37c21848",
      "metadata": {},
      "source": [
        "#### 3. Create a null vector of size 10 (★☆☆)"
      ]
    },
    {
      "cell_type": "code",
      "execution_count": 52,
      "id": "e090a462",
      "metadata": {
        "tags": []
      },
      "outputs": [
        {
          "name": "stdout",
          "output_type": "stream",
          "text": [
            "[0. 0. 0. 0. 0. 0. 0. 0. 0. 0.]\n"
          ]
        }
      ],
      "source": [
        "vector = np.zeros(10)\n",
        "print(vector)"
      ]
    },
    {
      "cell_type": "markdown",
      "id": "7c0e6add",
      "metadata": {},
      "source": [
        "#### 4. How to find the memory size of any array (★☆☆)"
      ]
    },
    {
      "cell_type": "code",
      "execution_count": 7,
      "id": "8c96715d",
      "metadata": {
        "tags": []
      },
      "outputs": [
        {
          "name": "stdout",
          "output_type": "stream",
          "text": [
            "800 bytes\n"
          ]
        }
      ],
      "source": [
        "Z = np.zeros((10,10))\n",
        "print(\"%d bytes\" % (Z.size * Z.itemsize))"
      ]
    },
    {
      "cell_type": "markdown",
      "id": "4cf547db",
      "metadata": {},
      "source": [
        "#### 5. How to get the documentation of the numpy add function from the command line? (★☆☆)"
      ]
    },
    {
      "cell_type": "code",
      "execution_count": 54,
      "id": "2a24a1e9",
      "metadata": {
        "tags": []
      },
      "outputs": [
        {
          "name": "stdout",
          "output_type": "stream",
          "text": [
            "add(x1, x2, /, out=None, *, where=True, casting='same_kind', order='K', dtype=None, subok=True[, signature, extobj])\n",
            "\n",
            "Add arguments element-wise.\n",
            "\n",
            "Parameters\n",
            "----------\n",
            "x1, x2 : array_like\n",
            "    The arrays to be added.\n",
            "    If ``x1.shape != x2.shape``, they must be broadcastable to a common\n",
            "    shape (which becomes the shape of the output).\n",
            "out : ndarray, None, or tuple of ndarray and None, optional\n",
            "    A location into which the result is stored. If provided, it must have\n",
            "    a shape that the inputs broadcast to. If not provided or None,\n",
            "    a freshly-allocated array is returned. A tuple (possible only as a\n",
            "    keyword argument) must have length equal to the number of outputs.\n",
            "where : array_like, optional\n",
            "    This condition is broadcast over the input. At locations where the\n",
            "    condition is True, the `out` array will be set to the ufunc result.\n",
            "    Elsewhere, the `out` array will retain its original value.\n",
            "    Note that if an uninitialized `out` array is created via the default\n",
            "    ``out=None``, locations within it where the condition is False will\n",
            "    remain uninitialized.\n",
            "**kwargs\n",
            "    For other keyword-only arguments, see the\n",
            "    :ref:`ufunc docs <ufuncs.kwargs>`.\n",
            "\n",
            "Returns\n",
            "-------\n",
            "add : ndarray or scalar\n",
            "    The sum of `x1` and `x2`, element-wise.\n",
            "    This is a scalar if both `x1` and `x2` are scalars.\n",
            "\n",
            "Notes\n",
            "-----\n",
            "Equivalent to `x1` + `x2` in terms of array broadcasting.\n",
            "\n",
            "Examples\n",
            "--------\n",
            ">>> np.add(1.0, 4.0)\n",
            "5.0\n",
            ">>> x1 = np.arange(9.0).reshape((3, 3))\n",
            ">>> x2 = np.arange(3.0)\n",
            ">>> np.add(x1, x2)\n",
            "array([[  0.,   2.,   4.],\n",
            "       [  3.,   5.,   7.],\n",
            "       [  6.,   8.,  10.]])\n",
            "\n",
            "The ``+`` operator can be used as a shorthand for ``np.add`` on ndarrays.\n",
            "\n",
            ">>> x1 = np.arange(9.0).reshape((3, 3))\n",
            ">>> x2 = np.arange(3.0)\n",
            ">>> x1 + x2\n",
            "array([[ 0.,  2.,  4.],\n",
            "       [ 3.,  5.,  7.],\n",
            "       [ 6.,  8., 10.]])\n"
          ]
        }
      ],
      "source": [
        "np.info(np.add) #python -c \"import numpy as np; np.info(np.add)\""
      ]
    },
    {
      "cell_type": "markdown",
      "id": "bf6679c3",
      "metadata": {},
      "source": [
        "#### 6. Create a null vector of size 10 but the fifth value which is 1 (★☆☆)"
      ]
    },
    {
      "cell_type": "code",
      "execution_count": 55,
      "id": "f4cd59b6",
      "metadata": {
        "tags": []
      },
      "outputs": [
        {
          "name": "stdout",
          "output_type": "stream",
          "text": [
            "[0. 0. 0. 0. 1. 0. 0. 0. 0. 0.]\n"
          ]
        }
      ],
      "source": [
        "vector = np.zeros(10)\n",
        "vector[4] = 1\n",
        "print(vector)"
      ]
    },
    {
      "cell_type": "markdown",
      "id": "022451fb",
      "metadata": {},
      "source": [
        "#### 7. Create a vector with values ranging from 10 to 49 (★☆☆)"
      ]
    },
    {
      "cell_type": "code",
      "execution_count": 56,
      "id": "22c2f0a8",
      "metadata": {
        "tags": []
      },
      "outputs": [
        {
          "name": "stdout",
          "output_type": "stream",
          "text": [
            "[10 11 12 13 14 15 16 17 18 19 20 21 22 23 24 25 26 27 28 29 30 31 32 33\n",
            " 34 35 36 37 38 39 40 41 42 43 44 45 46 47 48 49]\n"
          ]
        }
      ],
      "source": [
        "vector = np.arange(10,50)\n",
        "print(vector)"
      ]
    },
    {
      "cell_type": "markdown",
      "id": "aca8f6ee",
      "metadata": {},
      "source": [
        "#### 8. Reverse a vector (first element becomes last) (★☆☆)"
      ]
    },
    {
      "cell_type": "code",
      "execution_count": 62,
      "id": "15f37616",
      "metadata": {
        "tags": []
      },
      "outputs": [
        {
          "name": "stdout",
          "output_type": "stream",
          "text": [
            "Enter the size of list :  40\n"
          ]
        },
        {
          "name": "stdout",
          "output_type": "stream",
          "text": [
            "[39 38 37 36 35 34 33 32 31 30 29 28 27 26 25 24 23 22 21 20 19 18 17 16\n",
            " 15 14 13 12 11 10  9  8  7  6  5  4  3  2  1  0]\n"
          ]
        }
      ],
      "source": [
        "n = int(input(\"Enter the size of list : \"))\n",
        "vector = np.arange(n)\n",
        "vector = vector[::-1]\n",
        "print(vector)"
      ]
    },
    {
      "cell_type": "markdown",
      "id": "97bfddd4",
      "metadata": {},
      "source": [
        "#### 9. Create a 3x3 matrix with values ranging from 0 to 8 (★☆☆)"
      ]
    },
    {
      "cell_type": "code",
      "execution_count": 63,
      "id": "8b93d83c",
      "metadata": {
        "tags": []
      },
      "outputs": [
        {
          "name": "stdout",
          "output_type": "stream",
          "text": [
            "[[0 1 2]\n",
            " [3 4 5]\n",
            " [6 7 8]]\n"
          ]
        }
      ],
      "source": [
        "matrix = np.arange(9).reshape(3, 3)\n",
        "print(matrix)"
      ]
    },
    {
      "cell_type": "markdown",
      "id": "a073dad0",
      "metadata": {
        "tags": []
      },
      "source": [
        "#### 10. Find indices of non-zero elements from [1,2,0,0,4,0] (★☆☆)"
      ]
    },
    {
      "cell_type": "code",
      "execution_count": 119,
      "id": "c21fb91c",
      "metadata": {
        "tags": []
      },
      "outputs": [
        {
          "name": "stdout",
          "output_type": "stream",
          "text": [
            "(array([0, 1, 4], dtype=int64),)\n"
          ]
        }
      ],
      "source": [
        "non_zeroes_indices = np.nonzero([1,2,0,0,4,0])\n",
        "print(non_zeroes_indices)"
      ]
    },
    {
      "cell_type": "markdown",
      "id": "82b9a7a0",
      "metadata": {},
      "source": [
        "#### 11. Create a 3x3 identity matrix (★☆☆)"
      ]
    },
    {
      "cell_type": "code",
      "execution_count": 120,
      "id": "7ce1325a",
      "metadata": {
        "tags": []
      },
      "outputs": [
        {
          "name": "stdout",
          "output_type": "stream",
          "text": [
            "[[1. 0. 0.]\n",
            " [0. 1. 0.]\n",
            " [0. 0. 1.]]\n"
          ]
        }
      ],
      "source": [
        "matrix = np.eye(3)\n",
        "print(matrix)"
      ]
    },
    {
      "cell_type": "markdown",
      "id": "0e6364d3",
      "metadata": {},
      "source": [
        "#### 12. Create a 3x3x3 array with random values (★☆☆)"
      ]
    },
    {
      "cell_type": "code",
      "execution_count": 121,
      "id": "8139c1c8",
      "metadata": {
        "tags": []
      },
      "outputs": [
        {
          "name": "stdout",
          "output_type": "stream",
          "text": [
            "[[[65.32420832  5.88009438 29.35896265]\n",
            "  [83.09597782 51.37944493 81.31696164]\n",
            "  [ 9.56208308 93.0761145  19.79729831]]\n",
            "\n",
            " [[80.53061694 71.31851238 41.16922322]\n",
            "  [50.76011613 74.5962485  49.83403948]\n",
            "  [70.46395491 12.82327763 99.15187253]]\n",
            "\n",
            " [[ 4.17897245 62.14377101 54.18249339]\n",
            "  [94.01572117 21.47080571 81.26489726]\n",
            "  [25.41403655  5.27054859 96.58817139]]]\n"
          ]
        }
      ],
      "source": [
        "matrix = 100*np.random.random((3,3,3))\n",
        "print(matrix)"
      ]
    },
    {
      "cell_type": "markdown",
      "id": "49ef36a6",
      "metadata": {},
      "source": [
        "#### 13. Create a 10x10 array with random values and find the minimum and maximum values (★☆☆)"
      ]
    },
    {
      "cell_type": "code",
      "execution_count": 122,
      "id": "5b4c73c7",
      "metadata": {
        "tags": []
      },
      "outputs": [
        {
          "name": "stdout",
          "output_type": "stream",
          "text": [
            "[[98.8 93.8 75.1 78.3 12.3 72.1 94.5 71.3 73.4 64.7]\n",
            " [64.1 85.9 63.8 98.6 61.7 17.1 75.9 67.  27.3 94.8]\n",
            " [40.8 57.  40.7 72.8 54.  88.1 62.9 43.5 12.9 36.4]\n",
            " [42.5 43.  36.9  5.  93.6 61.3 68.7  6.3 54.5 72.3]\n",
            " [39.8 89.8 32.3 13.5 75.7 51.7 19.9 66.5 95.2 55.7]\n",
            " [58.4 89.9 42.3 21.  37.3 13.1 74.7 62.  21.7 18.2]\n",
            " [13.5 45.2 27.8  9.1 46.3  9.3 12.1 34.8 65.9 73.2]\n",
            " [25.  92.7 31.4 72.9 88.4  8.  36.3 77.6 97.3 58.3]\n",
            " [22.3 44.8 12.6  3.9 22.6 74.2 19.6 17.9 80.4 39.5]\n",
            " [91.1 29.3  5.2 48.5  9.2 73.7 35.9 51.6 66.3 48.9]]\n",
            "Minimum is: 3.9; Maximum is 98.8\n"
          ]
        }
      ],
      "source": [
        "matrix = 100*np.random.random((10,10)).round(3)\n",
        "print(matrix)\n",
        "matrixrMin, matrixMax = matrix.min(), matrix.max()\n",
        "print(f\"Minimum is: {matrixrMin}; Maximum is {matrixMax}\" )"
      ]
    },
    {
      "cell_type": "markdown",
      "id": "625eb243",
      "metadata": {},
      "source": [
        "#### 14. Create a random vector of size 30 and find the mean value (★☆☆)"
      ]
    },
    {
      "cell_type": "code",
      "execution_count": 123,
      "id": "ba7b8300",
      "metadata": {
        "tags": []
      },
      "outputs": [
        {
          "name": "stdout",
          "output_type": "stream",
          "text": [
            "[ 90.  50.  80.   0.  10.  70.  20.  10.  10.  90.  70.  50.  10.  90.\n",
            "  60.  90.  10.  30.  70.  10. 100.  30. 100.  70. 100.  20.  70.  30.\n",
            "  50.  60.]\n",
            "51.666666666666664\n"
          ]
        }
      ],
      "source": [
        "vector = 100*np.random.random(30).round(1)\n",
        "print(vector)\n",
        "avgValue = vector.mean()\n",
        "print(avgValue)"
      ]
    },
    {
      "cell_type": "markdown",
      "id": "19540b2f",
      "metadata": {},
      "source": [
        "#### 15. Create a 2d array with 1 on the border and 0 inside (★☆☆)"
      ]
    },
    {
      "cell_type": "code",
      "execution_count": 124,
      "id": "19e78d2c",
      "metadata": {
        "tags": []
      },
      "outputs": [
        {
          "name": "stdout",
          "output_type": "stream",
          "text": [
            "[[1. 1. 1. 1. 1. 1. 1. 1. 1. 1.]\n",
            " [1. 0. 0. 0. 0. 0. 0. 0. 0. 1.]\n",
            " [1. 0. 0. 0. 0. 0. 0. 0. 0. 1.]\n",
            " [1. 0. 0. 0. 0. 0. 0. 0. 0. 1.]\n",
            " [1. 0. 0. 0. 0. 0. 0. 0. 0. 1.]\n",
            " [1. 0. 0. 0. 0. 0. 0. 0. 0. 1.]\n",
            " [1. 0. 0. 0. 0. 0. 0. 0. 0. 1.]\n",
            " [1. 0. 0. 0. 0. 0. 0. 0. 0. 1.]\n",
            " [1. 0. 0. 0. 0. 0. 0. 0. 0. 1.]\n",
            " [1. 1. 1. 1. 1. 1. 1. 1. 1. 1.]]\n"
          ]
        }
      ],
      "source": [
        "matrix = np.ones((10,10))\n",
        "matrix[1:-1, 1:-1] = 0\n",
        "print(matrix)"
      ]
    },
    {
      "cell_type": "markdown",
      "id": "3f0fe171",
      "metadata": {},
      "source": [
        "#### 16. How to add a border (filled with 0's) around an existing array? (★☆☆)"
      ]
    },
    {
      "cell_type": "code",
      "execution_count": 125,
      "id": "662a99b4",
      "metadata": {
        "tags": []
      },
      "outputs": [
        {
          "name": "stdout",
          "output_type": "stream",
          "text": [
            "[[0. 0. 0. 0. 0. 0. 0.]\n",
            " [0. 1. 1. 1. 1. 1. 0.]\n",
            " [0. 1. 1. 1. 1. 1. 0.]\n",
            " [0. 1. 1. 1. 1. 1. 0.]\n",
            " [0. 1. 1. 1. 1. 1. 0.]\n",
            " [0. 1. 1. 1. 1. 1. 0.]\n",
            " [0. 0. 0. 0. 0. 0. 0.]]\n"
          ]
        }
      ],
      "source": [
        "matrix = np.ones((5,5))\n",
        "matrix = np.pad(matrix, pad_width=1, mode='constant', constant_values=0)\n",
        "print(matrix)"
      ]
    },
    {
      "cell_type": "markdown",
      "id": "0464c4af",
      "metadata": {},
      "source": [
        "#### 17. What is the result of the following expression? (★☆☆)\n",
        "```python\n",
        "0 * np.nan\n",
        "np.nan == np.nan\n",
        "np.inf > np.nan\n",
        "np.nan - np.nan\n",
        "np.nan in set([np.nan])\n",
        "0.3 == 3 * 0.1\n",
        "```"
      ]
    },
    {
      "cell_type": "code",
      "execution_count": 126,
      "id": "18926a29",
      "metadata": {
        "tags": []
      },
      "outputs": [
        {
          "name": "stdout",
          "output_type": "stream",
          "text": [
            "0 * np.nan=nan\n",
            "np.nan == np.nan=False\n",
            "np.inf > np.nan=False\n",
            "np.nan - np.nan=nan\n",
            "np.nan in set([np.nan])=True\n",
            "0.3 == 3 * 0.1=False\n"
          ]
        }
      ],
      "source": [
        "print(f\"0 * np.nan={0 * np.nan}\")\n",
        "print(f\"np.nan == np.nan={np.nan == np.nan}\")\n",
        "print(f\"np.inf > np.nan={np.inf > np.nan}\")\n",
        "print(f\"np.nan - np.nan={np.nan - np.nan}\")\n",
        "print(f\"np.nan in set([np.nan])={np.nan in set([np.nan])}\")\n",
        "print(f\"0.3 == 3 * 0.1={0.3 == 3 * 0.1}\")\n"
      ]
    },
    {
      "cell_type": "markdown",
      "id": "afb90e8b",
      "metadata": {},
      "source": [
        "#### 18. Create a 5x5 matrix with values 1,2,3,4 just below the diagonal (★☆☆)"
      ]
    },
    {
      "cell_type": "code",
      "execution_count": 127,
      "id": "8a988102",
      "metadata": {
        "tags": []
      },
      "outputs": [
        {
          "name": "stdout",
          "output_type": "stream",
          "text": [
            "[[0 0 0 0 0]\n",
            " [1 0 0 0 0]\n",
            " [0 2 0 0 0]\n",
            " [0 0 3 0 0]\n",
            " [0 0 0 4 0]]\n"
          ]
        }
      ],
      "source": [
        "matrix = np.diag(1+np.arange(4),k=-1)\n",
        "print(matrix)"
      ]
    },
    {
      "cell_type": "markdown",
      "id": "ca611f9e",
      "metadata": {
        "tags": []
      },
      "source": [
        "# 19. Create a 8x8 matrix and fill it with a checkerboard pattern (★☆☆)"
      ]
    },
    {
      "cell_type": "code",
      "execution_count": 128,
      "id": "24049fc7",
      "metadata": {
        "tags": []
      },
      "outputs": [
        {
          "name": "stdout",
          "output_type": "stream",
          "text": [
            "[[0 1 0 1 0 1 0 1]\n",
            " [1 0 1 0 1 0 1 0]\n",
            " [0 1 0 1 0 1 0 1]\n",
            " [1 0 1 0 1 0 1 0]\n",
            " [0 1 0 1 0 1 0 1]\n",
            " [1 0 1 0 1 0 1 0]\n",
            " [0 1 0 1 0 1 0 1]\n",
            " [1 0 1 0 1 0 1 0]]\n"
          ]
        }
      ],
      "source": [
        "matrix = np.zeros((8,8),dtype=int)\n",
        "matrix[1::2,::2] = 1\n",
        "matrix[::2,1::2] = 1\n",
        "print(matrix)"
      ]
    },
    {
      "cell_type": "markdown",
      "id": "9b77f7af",
      "metadata": {
        "tags": []
      },
      "source": [
        "#### 20. Consider a (6,7,8) shape array, what is the index (x,y,z) of the 100th element? (★☆☆)"
      ]
    },
    {
      "cell_type": "code",
      "execution_count": 129,
      "id": "402efd68",
      "metadata": {
        "tags": []
      },
      "outputs": [
        {
          "name": "stdout",
          "output_type": "stream",
          "text": [
            "(1, 5, 3)\n"
          ]
        }
      ],
      "source": [
        "print(np.unravel_index(99,(6,7,8)))"
      ]
    },
    {
      "cell_type": "markdown",
      "id": "07e399b8",
      "metadata": {},
      "source": [
        "#### 21. Create a checkerboard 8x8 matrix using the tile function (★☆☆)"
      ]
    },
    {
      "cell_type": "code",
      "execution_count": 130,
      "id": "867964a9",
      "metadata": {
        "tags": []
      },
      "outputs": [
        {
          "name": "stdout",
          "output_type": "stream",
          "text": [
            "[[0 1 0 1 0 1 0 1]\n",
            " [1 0 1 0 1 0 1 0]\n",
            " [0 1 0 1 0 1 0 1]\n",
            " [1 0 1 0 1 0 1 0]\n",
            " [0 1 0 1 0 1 0 1]\n",
            " [1 0 1 0 1 0 1 0]\n",
            " [0 1 0 1 0 1 0 1]\n",
            " [1 0 1 0 1 0 1 0]]\n"
          ]
        }
      ],
      "source": [
        "matrix = np.tile( np.array([ [0,1], [1,0] ]), (4,4))\n",
        "print(matrix)"
      ]
    },
    {
      "cell_type": "markdown",
      "id": "bc92d88a",
      "metadata": {},
      "source": [
        "#### 22. Normalize a 5x5 random matrix (★☆☆)"
      ]
    },
    {
      "cell_type": "code",
      "execution_count": 141,
      "id": "a3709496",
      "metadata": {
        "tags": []
      },
      "outputs": [
        {
          "data": {
            "text/plain": [
              "array([[0.89457488, 0.40310156, 0.71008254, 0.29865689, 0.9681213 ],\n",
              "       [0.57937121, 0.33264952, 0.24176039, 0.86188443, 0.47786357],\n",
              "       [0.10948772, 0.6678361 , 0.89442442, 1.        , 0.56389913],\n",
              "       [0.00876142, 0.90197839, 0.34055969, 0.36402789, 0.51204941],\n",
              "       [0.35935914, 0.50806354, 0.01483946, 0.44855118, 0.44035652]])"
            ]
          },
          "execution_count": 141,
          "metadata": {},
          "output_type": "execute_result"
        }
      ],
      "source": [
        "matrix = np.random.random((5,5))\n",
        "maxValue =matrix.max() \n",
        "matrix /= maxValue\n",
        "matrix"
      ]
    },
    {
      "cell_type": "markdown",
      "id": "9e2fd8ce",
      "metadata": {},
      "source": [
        "#### 23. Create a custom dtype that describes a color as four unsigned bytes (RGBA) (★☆☆)"
      ]
    },
    {
      "cell_type": "code",
      "execution_count": 143,
      "id": "5881b2b5",
      "metadata": {
        "tags": []
      },
      "outputs": [
        {
          "data": {
            "text/plain": [
              "dtype([('r', 'u1'), ('g', 'u1'), ('b', 'u1'), ('a', 'u1')])"
            ]
          },
          "execution_count": 143,
          "metadata": {},
          "output_type": "execute_result"
        }
      ],
      "source": [
        "color = np.dtype([(\"r\", np.ubyte),\n",
        "                  (\"g\", np.ubyte),\n",
        "                  (\"b\", np.ubyte),\n",
        "                  (\"a\", np.ubyte)])\n",
        "color"
      ]
    },
    {
      "cell_type": "markdown",
      "id": "d6904ab9",
      "metadata": {},
      "source": [
        "#### 24. Multiply a 5x3 matrix by a 3x2 matrix (real matrix product) (★☆☆)"
      ]
    },
    {
      "cell_type": "code",
      "execution_count": 146,
      "id": "cb3b6528",
      "metadata": {
        "tags": []
      },
      "outputs": [
        {
          "name": "stdout",
          "output_type": "stream",
          "text": [
            "[[3. 3.]\n",
            " [3. 3.]\n",
            " [3. 3.]\n",
            " [3. 3.]\n",
            " [3. 3.]]\n"
          ]
        }
      ],
      "source": [
        "matrix2 = np.ones((5,3)) @ np.ones((3,2))\n",
        "print(matrix2)"
      ]
    },
    {
      "cell_type": "markdown",
      "id": "c57116dd",
      "metadata": {},
      "source": [
        "#### 25. Given a 1D array, negate all elements which are between 3 and 8, in place. (★☆☆)"
      ]
    },
    {
      "cell_type": "code",
      "execution_count": 148,
      "id": "4fbf1b1e",
      "metadata": {
        "tags": []
      },
      "outputs": [
        {
          "name": "stdout",
          "output_type": "stream",
          "text": [
            "[ 0  1  2 -3 -4 -5 -6 -7 -8  9 10]\n"
          ]
        }
      ],
      "source": [
        "vector = np.arange(11)\n",
        "vector[3:9] = np.multiply(vector[3:9],-1)\n",
        "print(vector)"
      ]
    },
    {
      "cell_type": "markdown",
      "id": "52707d61",
      "metadata": {},
      "source": [
        "#### 26. What is the output of the following script? (★☆☆)\n",
        "```python\n",
        "# Author: Jake VanderPlas\n",
        "\n",
        "print(sum(range(5),-1))\n",
        "from numpy import *\n",
        "print(sum(range(5),-1))\n",
        "```"
      ]
    },
    {
      "cell_type": "code",
      "execution_count": 149,
      "id": "18a238e6",
      "metadata": {
        "tags": []
      },
      "outputs": [
        {
          "name": "stdout",
          "output_type": "stream",
          "text": [
            "9\n",
            "10\n"
          ]
        }
      ],
      "source": [
        "print(sum(range(5),-1))\n",
        "from numpy import *\n",
        "print(sum(range(5),-1))"
      ]
    },
    {
      "cell_type": "markdown",
      "id": "5ab377fd",
      "metadata": {},
      "source": [
        "#### 27. Consider an integer vector Z, which of these expressions are legal? (★☆☆)\n",
        "```python\n",
        "Z**Z\n",
        "2 << Z >> 2\n",
        "Z <- Z\n",
        "1j*Z\n",
        "Z/1/1\n",
        "Z<Z>Z\n",
        "```"
      ]
    },
    {
      "cell_type": "code",
      "execution_count": 152,
      "id": "36cc66a9",
      "metadata": {
        "tags": []
      },
      "outputs": [
        {
          "name": "stdout",
          "output_type": "stream",
          "text": [
            "Z**Z = [        1         1         4        27       256      3125     46656\n",
            "    823543  16777216 387420489]\n",
            "2 << Z >> 2 = [  0   1   2   4   8  16  32  64 128 256]\n",
            "Z <- Z = [False False False False False False False False False False]\n",
            "1j*Z = [0.+0.j 0.+1.j 0.+2.j 0.+3.j 0.+4.j 0.+5.j 0.+6.j 0.+7.j 0.+8.j 0.+9.j]\n",
            "Z/1/1 = [0. 1. 2. 3. 4. 5. 6. 7. 8. 9.]\n"
          ]
        },
        {
          "ename": "ValueError",
          "evalue": "The truth value of an array with more than one element is ambiguous. Use a.any() or a.all()",
          "output_type": "error",
          "traceback": [
            "\u001b[1;31m---------------------------------------------------------------------------\u001b[0m",
            "\u001b[1;31mValueError\u001b[0m                                Traceback (most recent call last)",
            "Cell \u001b[1;32mIn[152], line 7\u001b[0m\n\u001b[0;32m      5\u001b[0m \u001b[38;5;28mprint\u001b[39m(\u001b[38;5;124mf\u001b[39m\u001b[38;5;124m\"\u001b[39m\u001b[38;5;124m1j*Z = \u001b[39m\u001b[38;5;132;01m{\u001b[39;00m\u001b[38;5;241m1\u001b[39mj\u001b[38;5;241m*\u001b[39mZ\u001b[38;5;132;01m}\u001b[39;00m\u001b[38;5;124m\"\u001b[39m)\n\u001b[0;32m      6\u001b[0m \u001b[38;5;28mprint\u001b[39m(\u001b[38;5;124mf\u001b[39m\u001b[38;5;124m\"\u001b[39m\u001b[38;5;124mZ/1/1 = \u001b[39m\u001b[38;5;132;01m{\u001b[39;00mZ\u001b[38;5;241m/\u001b[39m\u001b[38;5;241m1\u001b[39m\u001b[38;5;241m/\u001b[39m\u001b[38;5;241m1\u001b[39m\u001b[38;5;132;01m}\u001b[39;00m\u001b[38;5;124m\"\u001b[39m)\n\u001b[1;32m----> 7\u001b[0m \u001b[38;5;28mprint\u001b[39m(\u001b[38;5;124mf\u001b[39m\u001b[38;5;124m\"\u001b[39m\u001b[38;5;124mZ<Z>Z = \u001b[39m\u001b[38;5;132;01m{\u001b[39;00mZ\u001b[38;5;241m<\u001b[39mZ\u001b[38;5;241m>\u001b[39mZ\u001b[38;5;132;01m}\u001b[39;00m\u001b[38;5;124m\"\u001b[39m)\n",
            "\u001b[1;31mValueError\u001b[0m: The truth value of an array with more than one element is ambiguous. Use a.any() or a.all()"
          ]
        }
      ],
      "source": [
        "Z = np.arange(10, dtype=int)\n",
        "print(f\"Z**Z = {Z**Z}\")\n",
        "print(f\"2 << Z >> 2 = {2 << Z >> 2}\")\n",
        "print(f\"Z <- Z = {Z <- Z}\")\n",
        "print(f\"1j*Z = {1j*Z}\")\n",
        "print(f\"Z/1/1 = {Z/1/1}\")\n",
        "print(f\"Z<Z>Z = {Z<Z>Z}\")"
      ]
    },
    {
      "cell_type": "markdown",
      "id": "654f223f",
      "metadata": {},
      "source": [
        "#### 28. What are the result of the following expressions? (★☆☆)\n",
        "```python\n",
        "np.array(0) / np.array(0)\n",
        "np.array(0) // np.array(0)\n",
        "np.array([np.nan]).astype(int).astype(float)\n",
        "```"
      ]
    },
    {
      "cell_type": "code",
      "execution_count": 5,
      "id": "6d9d3c21",
      "metadata": {
        "tags": []
      },
      "outputs": [
        {
          "name": "stdout",
          "output_type": "stream",
          "text": [
            "np.array(0) / np.array(0) = nan\n",
            "np.array(0) // np.array(0) = 0\n",
            "np.array([np.nan]).astype(int).astype(float) = [-2.14748365e+09]\n"
          ]
        },
        {
          "name": "stderr",
          "output_type": "stream",
          "text": [
            "C:\\Users\\Danya\\AppData\\Local\\Temp\\ipykernel_14748\\3888904617.py:2: RuntimeWarning: invalid value encountered in divide\n",
            "  print(f\"np.array(0) / np.array(0) = {np.array(0) / np.array(0)}\")\n",
            "C:\\Users\\Danya\\AppData\\Local\\Temp\\ipykernel_14748\\3888904617.py:3: RuntimeWarning: divide by zero encountered in floor_divide\n",
            "  print(f\"np.array(0) // np.array(0) = {np.array(0) // np.array(0)}\")\n",
            "C:\\Users\\Danya\\AppData\\Local\\Temp\\ipykernel_14748\\3888904617.py:4: RuntimeWarning: invalid value encountered in cast\n",
            "  print(f\"np.array([np.nan]).astype(int).astype(float) = {np.array([np.nan]).astype(int).astype(float)}\")\n"
          ]
        }
      ],
      "source": [
        "print(f\"np.array(0) / np.array(0) = {np.array(0) / np.array(0)}\")\n",
        "print(f\"np.array(0) // np.array(0) = {np.array(0) // np.array(0)}\")\n",
        "print(f\"np.array([np.nan]).astype(int).astype(float) = {np.array([np.nan]).astype(int).astype(float)}\")"
      ]
    },
    {
      "cell_type": "markdown",
      "id": "a7e00adf",
      "metadata": {},
      "source": [
        "#### 29. How to round away from zero a float array ? (★☆☆)"
      ]
    },
    {
      "cell_type": "code",
      "execution_count": 157,
      "id": "6ee5777d",
      "metadata": {
        "tags": []
      },
      "outputs": [
        {
          "name": "stdout",
          "output_type": "stream",
          "text": [
            "[-10.   1.   3.  -7.  -8.  -2.   3.  -7.  -8.   7.]\n"
          ]
        }
      ],
      "source": [
        "vector = np.random.uniform(-10,10,10)\n",
        "print(np.where(Z>0, np.ceil(Z), np.floor(Z)))"
      ]
    },
    {
      "cell_type": "markdown",
      "id": "56be1f05",
      "metadata": {},
      "source": [
        "#### 30. How to find common values between two arrays? (★☆☆)"
      ]
    },
    {
      "cell_type": "code",
      "execution_count": 170,
      "id": "62eeedc0",
      "metadata": {
        "tags": []
      },
      "outputs": [
        {
          "name": "stdout",
          "output_type": "stream",
          "text": [
            "[39]\n"
          ]
        }
      ],
      "source": [
        "vector1 = np.random.randint(10,40,10)\n",
        "vector2 = np.random.randint(39,50,10)\n",
        "print(np.intersect1d(vector1,vector2))"
      ]
    },
    {
      "cell_type": "markdown",
      "id": "83567c5c",
      "metadata": {},
      "source": [
        "#### 31. How to ignore all numpy warnings (not recommended)? (★☆☆)"
      ]
    },
    {
      "cell_type": "code",
      "execution_count": 173,
      "id": "fa02b423",
      "metadata": {
        "tags": []
      },
      "outputs": [],
      "source": [
        "# Suicide mode on\n",
        "defaults = np.seterr(all=\"ignore\")\n",
        "Z = np.ones(1) / 0\n"
      ]
    },
    {
      "cell_type": "markdown",
      "id": "0a7449b6",
      "metadata": {},
      "source": [
        "#### 32. Is the following expressions true? (★☆☆)\n",
        "```python\n",
        "np.sqrt(-1) == np.emath.sqrt(-1)\n",
        "```"
      ]
    },
    {
      "cell_type": "code",
      "execution_count": 174,
      "id": "69eb4456",
      "metadata": {
        "tags": []
      },
      "outputs": [
        {
          "data": {
            "text/plain": [
              "False"
            ]
          },
          "execution_count": 174,
          "metadata": {},
          "output_type": "execute_result"
        }
      ],
      "source": [
        "np.sqrt(-1) == np.emath.sqrt(-1)"
      ]
    },
    {
      "cell_type": "code",
      "execution_count": 175,
      "id": "24fed3ee-3374-434f-b5bd-a82adca7a2fe",
      "metadata": {
        "tags": []
      },
      "outputs": [],
      "source": [
        "_ = np.seterr(**defaults)"
      ]
    },
    {
      "cell_type": "code",
      "execution_count": 6,
      "id": "9a42ba9f-9729-499f-8142-0058f8c2f6b9",
      "metadata": {
        "tags": []
      },
      "outputs": [
        {
          "name": "stderr",
          "output_type": "stream",
          "text": [
            "C:\\Users\\Danya\\AppData\\Local\\Temp\\ipykernel_14748\\244602691.py:1: RuntimeWarning: invalid value encountered in sqrt\n",
            "  np.sqrt(-1) == np.emath.sqrt(-1)\n"
          ]
        },
        {
          "data": {
            "text/plain": [
              "False"
            ]
          },
          "execution_count": 6,
          "metadata": {},
          "output_type": "execute_result"
        }
      ],
      "source": [
        "np.sqrt(-1) == np.emath.sqrt(-1)"
      ]
    },
    {
      "cell_type": "markdown",
      "id": "9d434219",
      "metadata": {},
      "source": [
        "#### 33. How to get the dates of yesterday, today and tomorrow? (★☆☆)"
      ]
    },
    {
      "cell_type": "code",
      "execution_count": 178,
      "id": "0b192943",
      "metadata": {
        "tags": []
      },
      "outputs": [
        {
          "name": "stdout",
          "output_type": "stream",
          "text": [
            "Yesterday: 2023-03-28, Today: 2023-03-29. Tomorrow: 2023-03-30\n"
          ]
        }
      ],
      "source": [
        "yesterday = np.datetime64('today') - np.timedelta64(1)\n",
        "today     = np.datetime64('today')\n",
        "tomorrow  = np.datetime64('today') + np.timedelta64(1)\n",
        "print(f\"Yesterday: {yesterday}, Today: {today}. Tomorrow: {tomorrow}\")"
      ]
    },
    {
      "cell_type": "markdown",
      "id": "b0e44339",
      "metadata": {},
      "source": [
        "#### 34. How to get all the dates corresponding to the month of July 2016? (★★☆)"
      ]
    },
    {
      "cell_type": "code",
      "execution_count": 179,
      "id": "8bf7daa6",
      "metadata": {
        "tags": []
      },
      "outputs": [
        {
          "name": "stdout",
          "output_type": "stream",
          "text": [
            "['2016-07-01' '2016-07-02' '2016-07-03' '2016-07-04' '2016-07-05'\n",
            " '2016-07-06' '2016-07-07' '2016-07-08' '2016-07-09' '2016-07-10'\n",
            " '2016-07-11' '2016-07-12' '2016-07-13' '2016-07-14' '2016-07-15'\n",
            " '2016-07-16' '2016-07-17' '2016-07-18' '2016-07-19' '2016-07-20'\n",
            " '2016-07-21' '2016-07-22' '2016-07-23' '2016-07-24' '2016-07-25'\n",
            " '2016-07-26' '2016-07-27' '2016-07-28' '2016-07-29' '2016-07-30'\n",
            " '2016-07-31']\n"
          ]
        }
      ],
      "source": [
        "vectorDates = np.arange('2016-07', '2016-08', dtype='datetime64[D]')\n",
        "print(vectorDates)"
      ]
    },
    {
      "cell_type": "markdown",
      "id": "f9b3c24a",
      "metadata": {},
      "source": [
        "#### 35. How to compute ((A+B)*(-A/2)) in place (without copy)? (★★☆)"
      ]
    },
    {
      "cell_type": "code",
      "execution_count": 182,
      "id": "40da18c9",
      "metadata": {
        "tags": []
      },
      "outputs": [
        {
          "data": {
            "text/plain": [
              "array([-150., -150., -150., -150., -150.])"
            ]
          },
          "execution_count": 182,
          "metadata": {},
          "output_type": "execute_result"
        }
      ],
      "source": [
        "A = np.ones(5)*10\n",
        "B = np.ones(5)*20\n",
        "np.add(A,B,out=B)\n",
        "np.divide(A,2,out=A)\n",
        "np.negative(A,out=A)\n",
        "np.multiply(A,B,out=A)"
      ]
    },
    {
      "cell_type": "markdown",
      "id": "cbb64ee9",
      "metadata": {},
      "source": [
        "#### 36. Extract the integer part of a random array of positive numbers using 4 different methods (★★☆)"
      ]
    },
    {
      "cell_type": "code",
      "execution_count": 185,
      "id": "f83748bd",
      "metadata": {
        "tags": []
      },
      "outputs": [
        {
          "name": "stdout",
          "output_type": "stream",
          "text": [
            "[5.46571539 9.35890215 3.05228169 2.43209675 3.44212612 7.68151354\n",
            " 2.07469127 9.29378136 2.36691521 1.60192986]\n",
            "[5. 9. 3. 2. 3. 7. 2. 9. 2. 1.]\n",
            "[5. 9. 3. 2. 3. 7. 2. 9. 2. 1.]\n",
            "[5. 9. 3. 2. 3. 7. 2. 9. 2. 1.]\n",
            "[5 9 3 2 3 7 2 9 2 1]\n"
          ]
        }
      ],
      "source": [
        "vector = np.random.uniform(0,10,10)\n",
        "print(vector)\n",
        "print(vector - vector%1)\n",
        "print(vector // 1)\n",
        "print(np.floor(vector))\n",
        "print(vector.astype(int))"
      ]
    },
    {
      "cell_type": "markdown",
      "id": "8418e1e4",
      "metadata": {},
      "source": [
        "#### 37. Create a 5x5 matrix with row values ranging from 0 to 4 (★★☆)"
      ]
    },
    {
      "cell_type": "code",
      "execution_count": 186,
      "id": "08e726e4",
      "metadata": {
        "tags": []
      },
      "outputs": [
        {
          "name": "stdout",
          "output_type": "stream",
          "text": [
            "[[0. 1. 2. 3. 4.]\n",
            " [0. 1. 2. 3. 4.]\n",
            " [0. 1. 2. 3. 4.]\n",
            " [0. 1. 2. 3. 4.]\n",
            " [0. 1. 2. 3. 4.]]\n"
          ]
        }
      ],
      "source": [
        "matrix = np.zeros((5,5))\n",
        "matrix += np.arange(5)\n",
        "print(matrix)"
      ]
    },
    {
      "cell_type": "markdown",
      "id": "a8420e2c",
      "metadata": {},
      "source": [
        "#### 38. Consider a generator function that generates 10 integers and use it to build an array (★☆☆)"
      ]
    },
    {
      "cell_type": "code",
      "execution_count": 194,
      "id": "c58e77ad",
      "metadata": {
        "tags": []
      },
      "outputs": [
        {
          "name": "stdout",
          "output_type": "stream",
          "text": [
            "[0 1 2 3 4 5 6 7 8 9]\n"
          ]
        }
      ],
      "source": [
        "def generate():\n",
        "    for val in range(10):\n",
        "        yield val\n",
        "vector = np.fromiter(generate(), dtype=int)\n",
        "print(vector)"
      ]
    },
    {
      "cell_type": "markdown",
      "id": "deab3e77",
      "metadata": {},
      "source": [
        "#### 39. Create a vector of size 10 with values ranging from 0 to 1, both excluded (★★☆)"
      ]
    },
    {
      "cell_type": "code",
      "execution_count": 198,
      "id": "2c5fafc8",
      "metadata": {
        "tags": []
      },
      "outputs": [
        {
          "name": "stdout",
          "output_type": "stream",
          "text": [
            "[0.09090909 0.18181818 0.27272727 0.36363636 0.45454545 0.54545455\n",
            " 0.63636364 0.72727273 0.81818182 0.90909091]\n"
          ]
        }
      ],
      "source": [
        "vector = np.linspace(0,1,11,endpoint=False)[1:]\n",
        "print(vector)"
      ]
    },
    {
      "cell_type": "markdown",
      "id": "5bb5de9c",
      "metadata": {},
      "source": [
        "#### 40. Create a random vector of size 10 and sort it (★★☆)"
      ]
    },
    {
      "cell_type": "code",
      "execution_count": 200,
      "id": "b9916965",
      "metadata": {
        "tags": []
      },
      "outputs": [
        {
          "name": "stdout",
          "output_type": "stream",
          "text": [
            "[24.02527404 31.98905574 38.82774759 48.23471133 48.41411587 51.05726135\n",
            " 54.51291229 78.89804699 79.87845685 95.87923271]\n"
          ]
        }
      ],
      "source": [
        "vector = 100* np.random.random(10)\n",
        "vector.sort()\n",
        "print(vector)"
      ]
    },
    {
      "cell_type": "markdown",
      "id": "ebc8ad64",
      "metadata": {},
      "source": [
        "#### 41. How to sum a small array faster than np.sum? (★★☆)"
      ]
    },
    {
      "cell_type": "code",
      "execution_count": 203,
      "id": "e7ac9923",
      "metadata": {
        "tags": []
      },
      "outputs": [
        {
          "name": "stdout",
          "output_type": "stream",
          "text": [
            "[0 1 2 3 4 5 6 7 8 9]\n"
          ]
        },
        {
          "data": {
            "text/plain": [
              "45"
            ]
          },
          "execution_count": 203,
          "metadata": {},
          "output_type": "execute_result"
        }
      ],
      "source": [
        "vector = np.arange(10)\n",
        "print(vector)\n",
        "np.add.reduce(vector)"
      ]
    },
    {
      "cell_type": "markdown",
      "id": "4abfb753",
      "metadata": {},
      "source": [
        "#### 42. Consider two random array A and B, check if they are equal (★★☆)"
      ]
    },
    {
      "cell_type": "code",
      "execution_count": 208,
      "id": "d265b5f6",
      "metadata": {
        "tags": []
      },
      "outputs": [
        {
          "name": "stdout",
          "output_type": "stream",
          "text": [
            "[9 4 9 3 9 9 2 0 3 5]\n",
            "[8 9 1 0 5 6 7 0 3 5]\n",
            "False\n"
          ]
        }
      ],
      "source": [
        "A = np.random.randint(0,10,10)\n",
        "print(A)\n",
        "\n",
        "B = np.random.randint(0,10,10)\n",
        "print(B) \n",
        "print(np.array_equal(A,B))"
      ]
    },
    {
      "cell_type": "markdown",
      "id": "c8fad2be",
      "metadata": {},
      "source": [
        "#### 43. Make an array immutable (read-only) (★★☆)"
      ]
    },
    {
      "cell_type": "code",
      "execution_count": 210,
      "id": "cadce095",
      "metadata": {
        "tags": []
      },
      "outputs": [
        {
          "ename": "ValueError",
          "evalue": "assignment destination is read-only",
          "output_type": "error",
          "traceback": [
            "\u001b[1;31m---------------------------------------------------------------------------\u001b[0m",
            "\u001b[1;31mValueError\u001b[0m                                Traceback (most recent call last)",
            "Cell \u001b[1;32mIn[210], line 3\u001b[0m\n\u001b[0;32m      1\u001b[0m vector \u001b[38;5;241m=\u001b[39m np\u001b[38;5;241m.\u001b[39mzeros(\u001b[38;5;241m15\u001b[39m)\n\u001b[0;32m      2\u001b[0m vector\u001b[38;5;241m.\u001b[39mflags\u001b[38;5;241m.\u001b[39mwriteable \u001b[38;5;241m=\u001b[39m \u001b[38;5;28;01mFalse\u001b[39;00m\n\u001b[1;32m----> 3\u001b[0m \u001b[43mvector\u001b[49m\u001b[43m[\u001b[49m\u001b[38;5;241;43m3\u001b[39;49m\u001b[43m]\u001b[49m \u001b[38;5;241m=\u001b[39m \u001b[38;5;241m5\u001b[39m\n",
            "\u001b[1;31mValueError\u001b[0m: assignment destination is read-only"
          ]
        }
      ],
      "source": [
        "vector = np.zeros(15)\n",
        "vector.flags.writeable = False\n",
        "vector[3] = 5"
      ]
    },
    {
      "cell_type": "markdown",
      "id": "91b25fb1",
      "metadata": {},
      "source": [
        "#### 44. Consider a random 10x2 matrix representing cartesian coordinates, convert them to polar coordinates (★★☆)"
      ]
    },
    {
      "cell_type": "code",
      "execution_count": 213,
      "id": "3f5fb344",
      "metadata": {
        "tags": []
      },
      "outputs": [
        {
          "name": "stdout",
          "output_type": "stream",
          "text": [
            "[1.08711426 0.12806499 0.99452686 0.74098685 0.23038195 0.77215091\n",
            " 0.98944664 0.81646254 0.97806504 0.79806872]\n",
            "[0.45875524 1.31107747 0.60011771 1.34713033 0.81246864 0.91743295\n",
            " 1.4585973  1.26340668 0.81642266 1.13063689]\n"
          ]
        }
      ],
      "source": [
        "matrix = np.random.random((10,2))\n",
        "X,Y = matrix[:,0], matrix[:,1]\n",
        "R = np.sqrt(X**2+Y**2)\n",
        "T = np.arctan2(Y,X)\n",
        "print(R)\n",
        "print(T)"
      ]
    },
    {
      "cell_type": "markdown",
      "id": "7e4116bc",
      "metadata": {},
      "source": [
        "#### 45. Create random vector of size 10 and replace the maximum value by 0 (★★☆)"
      ]
    },
    {
      "cell_type": "code",
      "execution_count": 216,
      "id": "b4e895f6",
      "metadata": {
        "tags": []
      },
      "outputs": [
        {
          "name": "stdout",
          "output_type": "stream",
          "text": [
            "[0.25612154 0.16642975 0.89159263 0.39234551 0.04504213 0.69376925\n",
            " 0.63906897 0.41871167 0.55103991 0.71205977]\n",
            "\n",
            "[0.25612154 0.16642975 0.         0.39234551 0.04504213 0.69376925\n",
            " 0.63906897 0.41871167 0.55103991 0.71205977]\n"
          ]
        }
      ],
      "source": [
        "vector = np.random.random(10)\n",
        "print(vector)\n",
        "print()\n",
        "vector[vector.argmax()] = 0\n",
        "print(vector)"
      ]
    },
    {
      "cell_type": "markdown",
      "id": "f5b68c55",
      "metadata": {},
      "source": [
        "#### 46. Create a structured array with `x` and `y` coordinates covering the [0,1]x[0,1] area (★★☆)"
      ]
    },
    {
      "cell_type": "code",
      "execution_count": 220,
      "id": "32fd3691",
      "metadata": {
        "tags": []
      },
      "outputs": [
        {
          "name": "stdout",
          "output_type": "stream",
          "text": [
            "[[(0. , 0. ) (0.2, 0. ) (0.4, 0. ) (0.6, 0. ) (0.8, 0. ) (1. , 0. )]\n",
            " [(0. , 0.2) (0.2, 0.2) (0.4, 0.2) (0.6, 0.2) (0.8, 0.2) (1. , 0.2)]\n",
            " [(0. , 0.4) (0.2, 0.4) (0.4, 0.4) (0.6, 0.4) (0.8, 0.4) (1. , 0.4)]\n",
            " [(0. , 0.6) (0.2, 0.6) (0.4, 0.6) (0.6, 0.6) (0.8, 0.6) (1. , 0.6)]\n",
            " [(0. , 0.8) (0.2, 0.8) (0.4, 0.8) (0.6, 0.8) (0.8, 0.8) (1. , 0.8)]\n",
            " [(0. , 1. ) (0.2, 1. ) (0.4, 1. ) (0.6, 1. ) (0.8, 1. ) (1. , 1. )]]\n"
          ]
        }
      ],
      "source": [
        "vector = np.zeros((6,6), [('x',float),('y',float)])\n",
        "vector['x'], vector['y'] = np.meshgrid(np.linspace(0,1,6),\n",
        "                             np.linspace(0,1,6))\n",
        "print(vector)"
      ]
    },
    {
      "cell_type": "markdown",
      "id": "378bc4e9",
      "metadata": {},
      "source": [
        "#### 47. Given two arrays, X and Y, construct the Cauchy matrix C (Cij =1/(xi - yj)) (★★☆)"
      ]
    },
    {
      "cell_type": "code",
      "execution_count": 224,
      "id": "43282e51",
      "metadata": {
        "tags": []
      },
      "outputs": [
        {
          "name": "stdout",
          "output_type": "stream",
          "text": [
            "[[-2.         -0.66666667 -0.4        -0.28571429 -0.22222222 -0.18181818\n",
            "  -0.15384615 -0.13333333]\n",
            " [ 2.         -2.         -0.66666667 -0.4        -0.28571429 -0.22222222\n",
            "  -0.18181818 -0.15384615]\n",
            " [ 0.66666667  2.         -2.         -0.66666667 -0.4        -0.28571429\n",
            "  -0.22222222 -0.18181818]\n",
            " [ 0.4         0.66666667  2.         -2.         -0.66666667 -0.4\n",
            "  -0.28571429 -0.22222222]\n",
            " [ 0.28571429  0.4         0.66666667  2.         -2.         -0.66666667\n",
            "  -0.4        -0.28571429]\n",
            " [ 0.22222222  0.28571429  0.4         0.66666667  2.         -2.\n",
            "  -0.66666667 -0.4       ]\n",
            " [ 0.18181818  0.22222222  0.28571429  0.4         0.66666667  2.\n",
            "  -2.         -0.66666667]\n",
            " [ 0.15384615  0.18181818  0.22222222  0.28571429  0.4         0.66666667\n",
            "   2.         -2.        ]]\n"
          ]
        }
      ],
      "source": [
        "X = np.arange(8)\n",
        "Y = X + 0.5\n",
        "C = 1.0 / np.subtract.outer(X, Y)\n",
        "print(C)"
      ]
    },
    {
      "cell_type": "markdown",
      "id": "7f45d2f9",
      "metadata": {},
      "source": [
        "#### 48. Print the minimum and maximum representable value for each numpy scalar type (★★☆)"
      ]
    },
    {
      "cell_type": "code",
      "execution_count": 225,
      "id": "a7f37b9e",
      "metadata": {
        "tags": []
      },
      "outputs": [
        {
          "name": "stdout",
          "output_type": "stream",
          "text": [
            "-128\n",
            "127\n",
            "-2147483648\n",
            "2147483647\n",
            "-9223372036854775808\n",
            "9223372036854775807\n",
            "-3.4028235e+38\n",
            "3.4028235e+38\n",
            "1.1920929e-07\n",
            "-1.7976931348623157e+308\n",
            "1.7976931348623157e+308\n",
            "2.220446049250313e-16\n"
          ]
        }
      ],
      "source": [
        "for dtype in [np.int8, np.int32, np.int64]:\n",
        "   print(np.iinfo(dtype).min)\n",
        "   print(np.iinfo(dtype).max)\n",
        "for dtype in [np.float32, np.float64]:\n",
        "   print(np.finfo(dtype).min)\n",
        "   print(np.finfo(dtype).max)\n",
        "   print(np.finfo(dtype).eps)"
      ]
    },
    {
      "cell_type": "markdown",
      "id": "1d269f07",
      "metadata": {},
      "source": [
        "#### 49. How to print all the values of an array? (★★☆)"
      ]
    },
    {
      "cell_type": "code",
      "execution_count": 238,
      "id": "fde90b07",
      "metadata": {
        "tags": []
      },
      "outputs": [
        {
          "name": "stdout",
          "output_type": "stream",
          "text": [
            "[[1 1 1 1 1 1 1 1 1 1]\n",
            " [1 1 1 1 1 1 1 1 1 1]\n",
            " [1 1 1 1 1 1 1 1 1 1]\n",
            " [1 1 1 1 1 1 1 1 1 1]\n",
            " [1 1 1 1 1 1 1 1 1 1]\n",
            " [1 1 1 1 1 1 1 1 1 1]\n",
            " [1 1 1 1 1 1 1 1 1 1]\n",
            " [1 1 1 1 1 1 1 1 1 1]\n",
            " [1 1 1 1 1 1 1 1 1 1]\n",
            " [1 1 1 1 1 1 1 1 1 1]]\n"
          ]
        }
      ],
      "source": [
        "vector = np.ones((10,10), dtype=int)\n",
        "print(vector)"
      ]
    },
    {
      "cell_type": "markdown",
      "id": "ed655678",
      "metadata": {},
      "source": [
        "#### 50. How to find the closest value (to a given scalar) in a vector? (★★☆)"
      ]
    },
    {
      "cell_type": "code",
      "execution_count": 254,
      "id": "55e0812f",
      "metadata": {
        "tags": []
      },
      "outputs": [
        {
          "name": "stdout",
          "output_type": "stream",
          "text": [
            "[100  98  96  94  92  90  88  86  84  82  80  78  76  74  72  70  68  66\n",
            "  64  62  60  58  56  54  52  50  48  46  44  42  40  38  36  34  32  30\n",
            "  28  26  24  22  20  18  16  14  12  10   8   6   4   2]\n",
            "86.28134381179166\n",
            "86\n"
          ]
        }
      ],
      "source": [
        "vector = np.arange(100, 0, -2)\n",
        "print(vector)\n",
        "scalar = np.random.uniform(0,100)\n",
        "print(scalar)\n",
        "index = (np.abs(vector-scalar)).argmin()\n",
        "print(vector[index])"
      ]
    },
    {
      "cell_type": "markdown",
      "id": "3f73f88f",
      "metadata": {},
      "source": [
        "#### 51. Create a structured array representing a position (x,y) and a color (r,g,b) (★★☆)"
      ]
    },
    {
      "cell_type": "code",
      "execution_count": 261,
      "id": "74b51105",
      "metadata": {
        "tags": []
      },
      "outputs": [
        {
          "name": "stdout",
          "output_type": "stream",
          "text": [
            "[((0., 0.), (0., 0., 0.)) ((0., 0.), (0., 0., 0.))\n",
            " ((0., 0.), (0., 0., 0.)) ((0., 0.), (0., 0., 0.))\n",
            " ((0., 0.), (0., 0., 0.)) ((0., 0.), (0., 0., 0.))\n",
            " ((0., 0.), (0., 0., 0.)) ((0., 0.), (0., 0., 0.))\n",
            " ((0., 0.), (0., 0., 0.)) ((0., 0.), (0., 0., 0.))]\n"
          ]
        }
      ],
      "source": [
        "vector = np.zeros(10, [ ('position', [ ('x', float),\n",
        "                                       ('y', float)]),\n",
        "                       \n",
        "                        ('color',    [ ('r', float),\n",
        "                                       ('g', float),\n",
        "                                       ('b', float)])])\n",
        "print(vector)"
      ]
    },
    {
      "cell_type": "markdown",
      "id": "db83eee0",
      "metadata": {},
      "source": [
        "#### 52. Consider a random vector with shape (100,2) representing coordinates, find point by point distances (★★☆)"
      ]
    },
    {
      "cell_type": "code",
      "execution_count": 328,
      "id": "10884922",
      "metadata": {
        "tags": []
      },
      "outputs": [
        {
          "name": "stdout",
          "output_type": "stream",
          "text": [
            "[[0.         0.2380221  0.50579366 0.53250143 0.57722221 0.69152239\n",
            "  0.53853598 0.76120495 0.77129165 0.42728263 0.58191086 0.25293515\n",
            "  0.64207402 0.81221196 0.49783151 0.31001788 0.18617204 0.28114\n",
            "  0.48154816 0.51496168 0.69444408 0.07511894 0.50294575 0.34708838\n",
            "  0.76196677]\n",
            " [0.2380221  0.         0.7434006  0.62388009 0.53366077 0.85266362\n",
            "  0.77429941 0.87031936 0.95209744 0.55460261 0.6475996  0.46533795\n",
            "  0.76295607 0.9591588  0.39783811 0.53611519 0.37825238 0.47878028\n",
            "  0.70921342 0.70376048 0.93078141 0.25709225 0.67017384 0.28939671\n",
            "  0.88169306]\n",
            " [0.50579366 0.7434006  0.         0.68798449 0.92210507 0.60609542\n",
            "  0.12773699 0.79368931 0.59206343 0.56801707 0.7650582  0.32473048\n",
            "  0.68655643 0.73066614 0.91757152 0.23947385 0.43785885 0.38880719\n",
            "  0.14449344 0.42397059 0.22573456 0.50874904 0.49259118 0.77132319\n",
            "  0.76829808]\n",
            " [0.53250143 0.62388009 0.68798449 0.         0.32381032 0.3032542\n",
            "  0.60950246 0.24706895 0.43381257 0.12671533 0.07755173 0.6825237\n",
            "  0.15377014 0.3656829  0.43042109 0.67380303 0.37137563 0.33470606\n",
            "  0.77494439 0.30568623 0.72415883 0.45772186 0.22154949 0.38106352\n",
            "  0.26299493]\n",
            " [0.57722221 0.53366077 0.92210507 0.32381032 0.         0.62499251\n",
            "  0.87349186 0.50991759 0.75652257 0.38708522 0.27523861 0.80573561\n",
            "  0.46274865 0.66719339 0.16591374 0.83035696 0.50459988 0.53332759\n",
            "  0.97234211 0.6090441  1.00854329 0.5125136  0.52866254 0.2482412\n",
            "  0.54219036]\n",
            " [0.69152239 0.85266362 0.60609542 0.3032542  0.62499251 0.\n",
            "  0.48962227 0.21539222 0.13200611 0.30486111 0.35352046 0.7424517\n",
            "  0.16957343 0.13120256 0.73081211 0.69887193 0.50535036 0.41570096\n",
            "  0.73315806 0.2014071  0.54578582 0.62731827 0.18857813 0.65991999\n",
            "  0.17869488]\n",
            " [0.53853598 0.77429941 0.12773699 0.60950246 0.87349186 0.48962227\n",
            "  0.         0.68654019 0.46634971 0.49862991 0.68700287 0.40877782\n",
            "  0.58639155 0.61052735 0.89142455 0.32886127 0.42703158 0.35304753\n",
            "  0.27121837 0.32183661 0.15681764 0.52338521 0.39885546 0.75369651\n",
            "  0.65816324]\n",
            " [0.76120495 0.87031936 0.79368931 0.24706895 0.50991759 0.21539222\n",
            "  0.68654019 0.         0.32409809 0.33392304 0.24628564 0.87180627\n",
            "  0.12202846 0.17489686 0.64951867 0.84459159 0.58469657 0.51946133\n",
            "  0.90873036 0.36985175 0.75762388 0.68837478 0.31086754 0.62382255\n",
            "  0.04198063]\n",
            " [0.77129165 0.95209744 0.59206343 0.43381257 0.75652257 0.13200611\n",
            "  0.46634971 0.32409809 0.         0.42061477 0.48552612 0.78283774\n",
            "  0.30063974 0.17303468 0.85836386 0.72725051 0.58764827 0.4901605\n",
            "  0.73023275 0.256593   0.48415507 0.71349023 0.28319162 0.77947082\n",
            "  0.28283769]\n",
            " [0.42728263 0.55460261 0.56801707 0.12671533 0.38708522 0.30486111\n",
            "  0.49862991 0.33392304 0.42061477 0.         0.20016331 0.55836203\n",
            "  0.21564519 0.40460235 0.45087088 0.54733399 0.25371568 0.20818148\n",
            "  0.64967878 0.2240671  0.62484579 0.35468754 0.14962458 0.35902763\n",
            "  0.33609437]\n",
            " [0.58191086 0.6475996  0.7650582  0.07755173 0.27523861 0.35352046\n",
            "  0.68700287 0.24628564 0.48552612 0.20016331 0.         0.74799078\n",
            "  0.18786702 0.39305229 0.40414019 0.74377204 0.4324986  0.40574005\n",
            "  0.84983588 0.38073028 0.80031535 0.50680797 0.29667066 0.38335683\n",
            "  0.27305129]\n",
            " [0.25293515 0.46533795 0.32473048 0.6825237  0.80573561 0.7424517\n",
            "  0.40877782 0.87180627 0.78283774 0.55836203 0.74799078 0.\n",
            "  0.75023031 0.87319028 0.74525304 0.08545222 0.3178758  0.35403863\n",
            "  0.24959254 0.54190927 0.54613811 0.29874481 0.56906903 0.59250499\n",
            "  0.86075997]\n",
            " [0.64207402 0.76295607 0.68655643 0.15377014 0.46274865 0.16957343\n",
            "  0.58639155 0.12202846 0.30063974 0.21564519 0.18786702 0.75023031\n",
            "  0.         0.21199313 0.58207449 0.72472189 0.46362444 0.3974976\n",
            "  0.79559454 0.26471182 0.67344452 0.5700948  0.19568916 0.53331931\n",
            "  0.12050231]\n",
            " [0.81221196 0.9591588  0.73066614 0.3656829  0.66719339 0.13120256\n",
            "  0.61052735 0.17489686 0.17303468 0.40460235 0.39305229 0.87319028\n",
            "  0.21199313 0.         0.79328841 0.830068   0.62661417 0.54125802\n",
            "  0.86093686 0.33260385 0.64931279 0.74522604 0.31225152 0.74334683\n",
            "  0.13398093]\n",
            " [0.49783151 0.39783811 0.91757152 0.43042109 0.16591374 0.73081211\n",
            "  0.89142455 0.64951867 0.85836386 0.45087088 0.40414019 0.74525304\n",
            "  0.58207449 0.79328841 0.         0.7855793  0.48049286 0.53853173\n",
            "  0.94329933 0.67205783 1.03818131 0.44704954 0.60047635 0.15309418\n",
            "  0.6771709 ]\n",
            " [0.31001788 0.53611519 0.23947385 0.67380303 0.83035696 0.69887193\n",
            "  0.32886127 0.84459159 0.72725051 0.54733399 0.74377204 0.08545222\n",
            "  0.72472189 0.830068   0.7855793  0.         0.32804311 0.33915254\n",
            "  0.173111   0.49753922 0.4620201  0.34087411 0.53570892 0.63262633\n",
            "  0.82977764]\n",
            " [0.18617204 0.37825238 0.43785885 0.37137563 0.50459988 0.50535036\n",
            "  0.42703158 0.58469657 0.58764827 0.25371568 0.4324986  0.3178758\n",
            "  0.46362444 0.62661417 0.48049286 0.32804311 0.         0.10097982\n",
            "  0.46907953 0.33259789 0.58178732 0.12645837 0.31677407 0.33352158\n",
            "  0.58208243]\n",
            " [0.28114    0.47878028 0.38880719 0.33470606 0.53332759 0.41570096\n",
            "  0.35304753 0.51946133 0.4901605  0.20818148 0.40574005 0.35403863\n",
            "  0.3974976  0.54125802 0.53853173 0.33915254 0.10097982 0.\n",
            "  0.44984365 0.233867   0.50258361 0.2269532  0.22901383 0.4017862\n",
            "  0.51118777]\n",
            " [0.48154816 0.70921342 0.14449344 0.77494439 0.97234211 0.73315806\n",
            "  0.27121837 0.90873036 0.73023275 0.64967878 0.84983588 0.24959254\n",
            "  0.79559454 0.86093686 0.94329933 0.173111   0.46907953 0.44984365\n",
            "  0.         0.54104162 0.35628606 0.50573599 0.59993851 0.79155039\n",
            "  0.88686075]\n",
            " [0.51496168 0.70376048 0.42397059 0.30568623 0.6090441  0.2014071\n",
            "  0.32183661 0.36985175 0.256593   0.2240671  0.38073028 0.54190927\n",
            "  0.26471182 0.33260385 0.67205783 0.49753922 0.33259789 0.233867\n",
            "  0.54104162 0.         0.42039643 0.45896219 0.0841517  0.56582374\n",
            "  0.34602077]\n",
            " [0.69444408 0.93078141 0.22573456 0.72415883 1.00854329 0.54578582\n",
            "  0.15681764 0.75762388 0.48415507 0.62484579 0.80031535 0.54613811\n",
            "  0.67344452 0.64931279 1.03818131 0.4620201  0.58178732 0.50258361\n",
            "  0.35628606 0.42039643 0.         0.68018687 0.50394308 0.90436929\n",
            "  0.7236558 ]\n",
            " [0.07511894 0.25709225 0.50874904 0.45772186 0.5125136  0.62731827\n",
            "  0.52338521 0.68837478 0.71349023 0.35468754 0.50680797 0.29874481\n",
            "  0.5700948  0.74522604 0.44704954 0.34087411 0.12645837 0.2269532\n",
            "  0.50573599 0.45896219 0.68018687 0.         0.43916    0.29405199\n",
            "  0.69032388]\n",
            " [0.50294575 0.67017384 0.49259118 0.22154949 0.52866254 0.18857813\n",
            "  0.39885546 0.31086754 0.28319162 0.14962458 0.29667066 0.56906903\n",
            "  0.19568916 0.31225152 0.60047635 0.53570892 0.31677407 0.22901383\n",
            "  0.59993851 0.0841517  0.50394308 0.43916    0.         0.50430857\n",
            "  0.29408934]\n",
            " [0.34708838 0.28939671 0.77132319 0.38106352 0.2482412  0.65991999\n",
            "  0.75369651 0.62382255 0.77947082 0.35902763 0.38335683 0.59250499\n",
            "  0.53331931 0.74334683 0.15309418 0.63262633 0.33352158 0.4017862\n",
            "  0.79155039 0.56582374 0.90436929 0.29405199 0.50430857 0.\n",
            "  0.6434636 ]\n",
            " [0.76196677 0.88169306 0.76829808 0.26299493 0.54219036 0.17869488\n",
            "  0.65816324 0.04198063 0.28283769 0.33609437 0.27305129 0.86075997\n",
            "  0.12050231 0.13398093 0.6771709  0.82977764 0.58208243 0.51118777\n",
            "  0.88686075 0.34602077 0.7236558  0.69032388 0.29408934 0.6434636\n",
            "  0.        ]]\n"
          ]
        }
      ],
      "source": [
        "vector = np.random.random((25,2))\n",
        "X,Y = np.atleast_2d(vector[:,0], vector[:,1])\n",
        "D = np.sqrt( (X-X.T)**2 + (Y-Y.T)**2)\n",
        "print(D)"
      ]
    },
    {
      "cell_type": "markdown",
      "id": "b90e0bb2",
      "metadata": {},
      "source": [
        "#### 53. How to convert a float (32 bits) array into an integer (32 bits) in place?"
      ]
    },
    {
      "cell_type": "code",
      "execution_count": 266,
      "id": "db97ea05",
      "metadata": {
        "tags": []
      },
      "outputs": [
        {
          "name": "stdout",
          "output_type": "stream",
          "text": [
            "[54.744595  92.61033   90.356926  95.03598   60.771957   6.482016\n",
            "  1.1692487 61.28374   64.231544  56.91139  ]\n",
            "[54 92 90 95 60  6  1 61 64 56]\n"
          ]
        }
      ],
      "source": [
        "vectorFloats = (np.random.rand(10)*100).astype(np.float32)\n",
        "print(vectorFloats)\n",
        "vectorInts = vectorFloats.view(np.int32)\n",
        "vectorInts[:] = vectorFloats\n",
        "print(vectorInts)"
      ]
    },
    {
      "cell_type": "markdown",
      "id": "0d1b021c",
      "metadata": {},
      "source": [
        "#### 54. How to read the following file? (★★☆)\n",
        "```\n",
        "1, 2, 3, 4, 5\n",
        "6,  ,  , 7, 8\n",
        " ,  , 9,10,11\n",
        "```"
      ]
    },
    {
      "cell_type": "code",
      "execution_count": 269,
      "id": "9551928e",
      "metadata": {
        "tags": []
      },
      "outputs": [
        {
          "name": "stdout",
          "output_type": "stream",
          "text": [
            "[[ 1  2  3  4  5]\n",
            " [ 6 -1 -1  7  8]\n",
            " [-1 -1  9 10 11]]\n"
          ]
        }
      ],
      "source": [
        "from io import StringIO\n",
        "\n",
        "s = StringIO('''1, 2, 3, 4, 5\n",
        "                6,  ,  , 7, 8\n",
        "                 ,  , 9,10,11\n",
        "''')\n",
        "readFile = np.genfromtxt(s, delimiter=\",\", dtype=int)\n",
        "print(readFile)"
      ]
    },
    {
      "cell_type": "markdown",
      "id": "56928772",
      "metadata": {},
      "source": [
        "#### 55. What is the equivalent of enumerate for numpy arrays? (★★☆)"
      ]
    },
    {
      "cell_type": "code",
      "execution_count": 272,
      "id": "327d9b88",
      "metadata": {
        "tags": []
      },
      "outputs": [
        {
          "name": "stdout",
          "output_type": "stream",
          "text": [
            "(0, 0) 0\n",
            "(0, 1) 1\n",
            "(0, 2) 2\n",
            "(1, 0) 3\n",
            "(1, 1) 4\n",
            "(1, 2) 5\n",
            "(2, 0) 6\n",
            "(2, 1) 7\n",
            "(2, 2) 8\n"
          ]
        }
      ],
      "source": [
        "matrix = np.arange(9).reshape(3,3)\n",
        "for index, value in np.ndenumerate(matrix):\n",
        "    print(index, value)\n",
        "for index in np.ndindex(matrix.shape):\n",
        "    print(index, matrix[index])"
      ]
    },
    {
      "cell_type": "markdown",
      "id": "257e0bac",
      "metadata": {},
      "source": [
        "#### 56. Generate a generic 2D Gaussian-like array (★★☆)"
      ]
    },
    {
      "cell_type": "code",
      "execution_count": 273,
      "id": "1325d664",
      "metadata": {
        "tags": []
      },
      "outputs": [
        {
          "name": "stdout",
          "output_type": "stream",
          "text": [
            "[[0.36787944 0.44822088 0.51979489 0.57375342 0.60279818 0.60279818\n",
            "  0.57375342 0.51979489 0.44822088 0.36787944]\n",
            " [0.44822088 0.54610814 0.63331324 0.69905581 0.73444367 0.73444367\n",
            "  0.69905581 0.63331324 0.54610814 0.44822088]\n",
            " [0.51979489 0.63331324 0.73444367 0.81068432 0.85172308 0.85172308\n",
            "  0.81068432 0.73444367 0.63331324 0.51979489]\n",
            " [0.57375342 0.69905581 0.81068432 0.89483932 0.9401382  0.9401382\n",
            "  0.89483932 0.81068432 0.69905581 0.57375342]\n",
            " [0.60279818 0.73444367 0.85172308 0.9401382  0.98773022 0.98773022\n",
            "  0.9401382  0.85172308 0.73444367 0.60279818]\n",
            " [0.60279818 0.73444367 0.85172308 0.9401382  0.98773022 0.98773022\n",
            "  0.9401382  0.85172308 0.73444367 0.60279818]\n",
            " [0.57375342 0.69905581 0.81068432 0.89483932 0.9401382  0.9401382\n",
            "  0.89483932 0.81068432 0.69905581 0.57375342]\n",
            " [0.51979489 0.63331324 0.73444367 0.81068432 0.85172308 0.85172308\n",
            "  0.81068432 0.73444367 0.63331324 0.51979489]\n",
            " [0.44822088 0.54610814 0.63331324 0.69905581 0.73444367 0.73444367\n",
            "  0.69905581 0.63331324 0.54610814 0.44822088]\n",
            " [0.36787944 0.44822088 0.51979489 0.57375342 0.60279818 0.60279818\n",
            "  0.57375342 0.51979489 0.44822088 0.36787944]]\n"
          ]
        }
      ],
      "source": [
        "X, Y = np.meshgrid(np.linspace(-1,1,10), np.linspace(-1,1,10))\n",
        "D = np.sqrt(X*X+Y*Y)\n",
        "sigma, mu = 1.0, 0.0\n",
        "G = np.exp(-( (D-mu)**2 / ( 2.0 * sigma**2 ) ) )\n",
        "print(G)"
      ]
    },
    {
      "cell_type": "markdown",
      "id": "441347ee",
      "metadata": {},
      "source": [
        "#### 57. How to randomly place p elements in a 2D array? (★★☆)"
      ]
    },
    {
      "cell_type": "code",
      "execution_count": 274,
      "id": "1e61fce5",
      "metadata": {
        "tags": []
      },
      "outputs": [
        {
          "name": "stdout",
          "output_type": "stream",
          "text": [
            "[[0. 0. 0. 0. 0. 0. 0. 0. 0. 0.]\n",
            " [0. 0. 1. 0. 0. 0. 0. 0. 0. 0.]\n",
            " [0. 0. 0. 0. 0. 0. 0. 0. 0. 0.]\n",
            " [0. 0. 0. 0. 0. 0. 0. 0. 0. 0.]\n",
            " [0. 0. 0. 0. 0. 0. 0. 0. 0. 0.]\n",
            " [1. 0. 0. 0. 0. 0. 0. 0. 0. 0.]\n",
            " [0. 0. 0. 0. 0. 0. 0. 0. 0. 1.]\n",
            " [0. 0. 0. 0. 0. 0. 0. 0. 0. 0.]\n",
            " [0. 0. 0. 0. 0. 0. 0. 0. 0. 0.]\n",
            " [0. 0. 0. 0. 0. 0. 0. 0. 0. 0.]]\n"
          ]
        }
      ],
      "source": [
        "n = 10\n",
        "p = 3\n",
        "matrix = np.zeros((n,n))\n",
        "np.put(matrix, np.random.choice(range(n*n), p, replace=False),1)\n",
        "print(matrix)"
      ]
    },
    {
      "cell_type": "markdown",
      "id": "8a76af52",
      "metadata": {},
      "source": [
        "#### 58. Subtract the mean of each row of a matrix (★★☆)"
      ]
    },
    {
      "cell_type": "code",
      "execution_count": 279,
      "id": "65cf18e9",
      "metadata": {
        "tags": []
      },
      "outputs": [
        {
          "name": "stdout",
          "output_type": "stream",
          "text": [
            "Mean value vector: [[0.41556203]\n",
            " [0.49940067]\n",
            " [0.45583078]\n",
            " [0.71597667]\n",
            " [0.68419177]]\n",
            "\n",
            "[[0.77479856 0.47659687 0.12873907 0.68847913 0.43222101 0.27461699\n",
            "  0.50565634 0.20097095 0.25986042 0.41368094]\n",
            " [0.74331951 0.94745554 0.47418245 0.19695716 0.19868202 0.76158281\n",
            "  0.02089452 0.21082683 0.82722785 0.61287804]\n",
            " [0.40152363 0.24838354 0.23763083 0.61094656 0.18330379 0.74965654\n",
            "  0.07288373 0.62300709 0.45693472 0.97403736]\n",
            " [0.22447314 0.75465735 0.97019498 0.57551992 0.98438182 0.8081364\n",
            "  0.77178308 0.88630795 0.57844694 0.6058651 ]\n",
            " [0.52276323 0.96361594 0.89461965 0.08597298 0.83039141 0.98772096\n",
            "  0.94066906 0.82720243 0.16424563 0.62471643]]\n",
            "\n",
            "[[ 0.35923654  0.06103484 -0.28682296  0.2729171   0.01665899 -0.14094504\n",
            "   0.09009432 -0.21459108 -0.15570161 -0.00188109]\n",
            " [ 0.24391884  0.44805487 -0.02521822 -0.30244351 -0.30071866  0.26218213\n",
            "  -0.47850616 -0.28857384  0.32782718  0.11347737]\n",
            " [-0.05430715 -0.20744724 -0.21819995  0.15511578 -0.27252699  0.29382576\n",
            "  -0.38294705  0.16717631  0.00110394  0.51820658]\n",
            " [-0.49150352  0.03868068  0.25421832 -0.14045675  0.26840516  0.09215973\n",
            "   0.05580641  0.17033128 -0.13752972 -0.11011157]\n",
            " [-0.16142855  0.27942417  0.21042788 -0.59821879  0.14619964  0.30352919\n",
            "   0.25647728  0.14301066 -0.51994614 -0.05947534]]\n"
          ]
        }
      ],
      "source": [
        "X = np.random.rand(5, 10)\n",
        "meanvalue = X.mean(axis=1, keepdims=True)\n",
        "print(f\"Mean value vector: {meanvalue}\")\n",
        "print()\n",
        "Y = X - meanvalue\n",
        "print(X)\n",
        "print()\n",
        "print(Y)\n"
      ]
    },
    {
      "cell_type": "markdown",
      "id": "d2dc8b5f",
      "metadata": {},
      "source": [
        "#### 59. How to sort an array by the nth column? (★★☆)"
      ]
    },
    {
      "cell_type": "code",
      "execution_count": 284,
      "id": "83b5eafe",
      "metadata": {
        "tags": []
      },
      "outputs": [
        {
          "name": "stdout",
          "output_type": "stream",
          "text": [
            "[[5 5 2]\n",
            " [9 4 4]\n",
            " [4 8 2]]\n",
            "\n",
            "[[9 4 4]\n",
            " [5 5 2]\n",
            " [4 8 2]]\n"
          ]
        }
      ],
      "source": [
        "vector = np.random.randint(0,10,(3,3))\n",
        "print(vector)\n",
        "print()\n",
        "print(vector[vector[:,1].argsort()])"
      ]
    },
    {
      "cell_type": "markdown",
      "id": "4886f74e",
      "metadata": {},
      "source": [
        "#### 60. How to tell if a given 2D array has null columns? (★★☆)"
      ]
    },
    {
      "cell_type": "code",
      "execution_count": 309,
      "id": "7a066dd9",
      "metadata": {
        "tags": []
      },
      "outputs": [
        {
          "name": "stdout",
          "output_type": "stream",
          "text": [
            "[[0 0 1 1 1 0 0 1 1 1]\n",
            " [0 1 1 0 1 0 0 0 0 0]\n",
            " [0 1 1 1 0 0 0 1 1 0]\n",
            " [1 1 1 1 1 1 0 0 0 0]\n",
            " [1 0 0 1 1 0 0 1 1 0]]\n",
            "True\n"
          ]
        }
      ],
      "source": [
        "matrix = np.random.randint(0,2,(5,10))\n",
        "print(matrix)\n",
        "print((~matrix.any(axis=0)).any())"
      ]
    },
    {
      "cell_type": "markdown",
      "id": "1f5ad2a9",
      "metadata": {},
      "source": [
        "#### 61. Find the nearest value from a given value in an array (★★☆)"
      ]
    },
    {
      "cell_type": "code",
      "execution_count": 310,
      "id": "f53df167",
      "metadata": {
        "tags": []
      },
      "outputs": [
        {
          "name": "stdout",
          "output_type": "stream",
          "text": [
            "[0.65490179 0.6109094  0.80304859 0.93478105 0.81587437 0.2506327\n",
            " 0.27171234 0.69510331 0.80560688 0.49827302]\n",
            "\n",
            "0.5\n",
            "\n",
            "0.49827302233669124\n"
          ]
        }
      ],
      "source": [
        "matrix = np.random.uniform(0,1,10)\n",
        "print(matrix)\n",
        "givenValue = 0.5\n",
        "print()\n",
        "print(givenValue)\n",
        "print()\n",
        "nearestInArray = matrix.flat[np.abs(matrix - givenValue).argmin()]\n",
        "print(nearestInArray)"
      ]
    },
    {
      "cell_type": "markdown",
      "id": "aa48f9b2",
      "metadata": {},
      "source": [
        "#### 62. Considering two arrays with shape (1,3) and (3,1), how to compute their sum using an iterator? (★★☆)"
      ]
    },
    {
      "cell_type": "code",
      "execution_count": 314,
      "id": "68987301",
      "metadata": {
        "tags": []
      },
      "outputs": [
        {
          "name": "stdout",
          "output_type": "stream",
          "text": [
            "[[0 1 2]\n",
            " [1 2 3]\n",
            " [2 3 4]]\n"
          ]
        }
      ],
      "source": [
        "A = np.arange(3).reshape(3,1)\n",
        "B = np.arange(3).reshape(1,3)\n",
        "it = np.nditer([A,B,None])\n",
        "for x,y,z in it: z[...] = x + y\n",
        "print(it.operands[2])"
      ]
    },
    {
      "cell_type": "markdown",
      "id": "0bed1516",
      "metadata": {},
      "source": [
        "#### 63. Create an array class that has a name attribute (★★☆)"
      ]
    },
    {
      "cell_type": "code",
      "execution_count": 321,
      "id": "fa1d52fc",
      "metadata": {
        "tags": []
      },
      "outputs": [
        {
          "name": "stdout",
          "output_type": "stream",
          "text": [
            "MyArrayName\n"
          ]
        }
      ],
      "source": [
        "class ArrayWithName(np.ndarray):\n",
        "    def __new__(cls, array, name=\"no name\"):\n",
        "        obj = np.asarray(array).view(cls)\n",
        "        obj.name = name\n",
        "        return obj\n",
        "\n",
        "myArray = ArrayWithName(np.arange(10), \"MyArrayName\")\n",
        "print (myArray.name)"
      ]
    },
    {
      "cell_type": "markdown",
      "id": "463a40bb",
      "metadata": {},
      "source": [
        "#### 64. Consider a given vector, how to add 1 to each element indexed by a second vector (be careful with repeated indices)? (★★★)"
      ]
    },
    {
      "cell_type": "code",
      "execution_count": 323,
      "id": "cdb2cad0",
      "metadata": {
        "tags": []
      },
      "outputs": [
        {
          "name": "stdout",
          "output_type": "stream",
          "text": [
            "[1. 1. 1. 1. 1. 1. 1. 1. 1. 1.]\n",
            "[0 1 3 0 0 7 4 9 3 5 2 7 8 5 4 1 8 9 8 5]\n",
            "[4. 3. 2. 3. 3. 4. 1. 3. 4. 3.]\n"
          ]
        }
      ],
      "source": [
        "vector = np.ones(10)\n",
        "print(vector)\n",
        "indicesVec = np.random.randint(0,len(vector),20)\n",
        "print(indicesVec)\n",
        "vector += np.bincount(indicesVec, minlength=len(vector))\n",
        "print(vector)"
      ]
    },
    {
      "cell_type": "markdown",
      "id": "2a2f8219",
      "metadata": {},
      "source": [
        "#### 65. How to accumulate elements of a vector (X) to an array (F) based on an index list (I)? (★★★)"
      ]
    },
    {
      "cell_type": "code",
      "execution_count": 326,
      "id": "9cc34a77",
      "metadata": {
        "tags": []
      },
      "outputs": [
        {
          "name": "stdout",
          "output_type": "stream",
          "text": [
            "[0. 7. 0. 6. 5. 0. 0. 0. 0. 3.]\n"
          ]
        }
      ],
      "source": [
        "X = [1,2,3,4,5,6]\n",
        "I = [1,3,9,3,4,1]\n",
        "F = np.bincount(I,X)\n",
        "print(F)"
      ]
    },
    {
      "cell_type": "markdown",
      "id": "6a6a3c66",
      "metadata": {},
      "source": [
        "#### 66. Considering a (w,h,3) image of (dtype=ubyte), compute the number of unique colors (★★☆)"
      ]
    },
    {
      "cell_type": "code",
      "execution_count": 327,
      "id": "c88f5a5e",
      "metadata": {
        "tags": []
      },
      "outputs": [
        {
          "name": "stdout",
          "output_type": "stream",
          "text": [
            "64\n"
          ]
        }
      ],
      "source": [
        "w, h = 256, 256\n",
        "I = np.random.randint(0, 4, (h, w, 3)).astype(np.ubyte)\n",
        "colors = np.unique(I.reshape(-1, 3), axis=0)\n",
        "n = len(colors)\n",
        "print(n)"
      ]
    },
    {
      "cell_type": "markdown",
      "id": "4b030baa",
      "metadata": {},
      "source": [
        "#### 67. Considering a four dimensions array, how to get sum over the last two axis at once? (★★★)"
      ]
    },
    {
      "cell_type": "code",
      "execution_count": 334,
      "id": "cd2e7c9c",
      "metadata": {
        "tags": []
      },
      "outputs": [
        {
          "name": "stdout",
          "output_type": "stream",
          "text": [
            "[[52 73 75 73]\n",
            " [79 78 74 79]\n",
            " [85 88 56 54]\n",
            " [61 64 63 54]]\n"
          ]
        }
      ],
      "source": [
        "A = np.random.randint(0,10,(4,4,4,4))\n",
        "sum = A.sum(axis=(-2,-1))\n",
        "print(sum)"
      ]
    },
    {
      "cell_type": "markdown",
      "id": "1fa6053b",
      "metadata": {},
      "source": [
        "#### 68. Considering a one-dimensional vector D, how to compute means of subsets of D using a vector S of same size describing subset  indices? (★★★)"
      ]
    },
    {
      "cell_type": "code",
      "execution_count": 335,
      "id": "9b5a070d",
      "metadata": {
        "tags": []
      },
      "outputs": [
        {
          "name": "stdout",
          "output_type": "stream",
          "text": [
            "[0.55608423 0.37154379 0.51993677 0.44768486 0.41619959 0.54196074\n",
            " 0.32727306 0.40952106 0.4964714  0.44039386]\n"
          ]
        }
      ],
      "source": [
        "D = np.random.uniform(0,1,100)\n",
        "S = np.random.randint(0,10,100)\n",
        "D_sums = np.bincount(S, weights=D)\n",
        "D_counts = np.bincount(S)\n",
        "D_means = D_sums / D_counts\n",
        "print(D_means)"
      ]
    },
    {
      "cell_type": "markdown",
      "id": "2e7b0395",
      "metadata": {},
      "source": [
        "#### 69. How to get the diagonal of a dot product? (★★★)"
      ]
    },
    {
      "cell_type": "code",
      "execution_count": 341,
      "id": "ae437196",
      "metadata": {
        "tags": []
      },
      "outputs": [
        {
          "name": "stdout",
          "output_type": "stream",
          "text": [
            "[[49.80931401 76.90172509 72.15585743 98.64723287 47.41707205]\n",
            " [63.87320117 30.63580105 14.69187638 67.17064381 43.27617372]\n",
            " [93.53786774 69.42600744 73.13762915 35.5547059  25.33514046]\n",
            " [ 6.41483683 74.52279099  7.34244281 21.87846987 16.29680488]\n",
            " [77.17454116 73.31891003 34.28363356 98.99446376 21.17726196]]\n",
            "\n",
            "[[66.68744616 23.15172602 10.22384889 52.72214175 37.85359205]\n",
            " [96.59234123 66.22027954  7.87412459 24.00827376 54.86172719]\n",
            " [58.1830338  64.51746522 81.39161254 94.37304187 31.26982155]\n",
            " [65.72063473  3.48851608 99.65823468 11.63474903 62.59262783]\n",
            " [91.75960052 14.22743987 83.52076198 97.49857157 10.64382867]]\n",
            "\n",
            "[25782.15065853  5305.40381659 13115.10509187  4663.76187063\n",
            " 14437.50951673]\n",
            "[25782.15065853  5305.40381659 13115.10509187  4663.76187063\n",
            " 14437.50951673]\n"
          ]
        }
      ],
      "source": [
        "A = 100*np.random.uniform(0,1,(5,5))\n",
        "print(A)\n",
        "print()\n",
        "B = 100*np.random.uniform(0,1,(5,5))\n",
        "print(B)\n",
        "print()\n",
        "print(np.sum(A * B.T, axis=1))\n",
        "print(np.diag(np.dot(A, B)))\n"
      ]
    },
    {
      "cell_type": "markdown",
      "id": "2bf2f8e4",
      "metadata": {},
      "source": [
        "#### 70. Consider the vector [1, 2, 3, 4, 5], how to build a new vector with 3 consecutive zeros interleaved between each value? (★★★)"
      ]
    },
    {
      "cell_type": "code",
      "execution_count": 342,
      "id": "8a427342",
      "metadata": {
        "tags": []
      },
      "outputs": [
        {
          "name": "stdout",
          "output_type": "stream",
          "text": [
            "[1. 0. 0. 0. 2. 0. 0. 0. 3. 0. 0. 0. 4. 0. 0. 0. 5.]\n"
          ]
        }
      ],
      "source": [
        "Z = np.array([1,2,3,4,5])\n",
        "nz = 3\n",
        "Z0 = np.zeros(len(Z) + (len(Z)-1)*(nz))\n",
        "Z0[::nz+1] = Z\n",
        "print(Z0)"
      ]
    },
    {
      "cell_type": "markdown",
      "id": "fff802ea",
      "metadata": {},
      "source": [
        "#### 71. Consider an array of dimension (5,5,3), how to mulitply it by an array with dimensions (5,5)? (★★★)"
      ]
    },
    {
      "cell_type": "code",
      "execution_count": 343,
      "id": "e83ab7b5",
      "metadata": {
        "tags": []
      },
      "outputs": [
        {
          "name": "stdout",
          "output_type": "stream",
          "text": [
            "[[[2. 2. 2.]\n",
            "  [2. 2. 2.]\n",
            "  [2. 2. 2.]\n",
            "  [2. 2. 2.]\n",
            "  [2. 2. 2.]]\n",
            "\n",
            " [[2. 2. 2.]\n",
            "  [2. 2. 2.]\n",
            "  [2. 2. 2.]\n",
            "  [2. 2. 2.]\n",
            "  [2. 2. 2.]]\n",
            "\n",
            " [[2. 2. 2.]\n",
            "  [2. 2. 2.]\n",
            "  [2. 2. 2.]\n",
            "  [2. 2. 2.]\n",
            "  [2. 2. 2.]]\n",
            "\n",
            " [[2. 2. 2.]\n",
            "  [2. 2. 2.]\n",
            "  [2. 2. 2.]\n",
            "  [2. 2. 2.]\n",
            "  [2. 2. 2.]]\n",
            "\n",
            " [[2. 2. 2.]\n",
            "  [2. 2. 2.]\n",
            "  [2. 2. 2.]\n",
            "  [2. 2. 2.]\n",
            "  [2. 2. 2.]]]\n"
          ]
        }
      ],
      "source": [
        "A = np.ones((5,5,3))\n",
        "B = 2*np.ones((5,5))\n",
        "print(A * B[:,:,None])"
      ]
    },
    {
      "cell_type": "markdown",
      "id": "a0865c04",
      "metadata": {},
      "source": [
        "#### 72. How to swap two rows of an array? (★★★)"
      ]
    },
    {
      "cell_type": "code",
      "execution_count": 347,
      "id": "bb510428",
      "metadata": {
        "tags": []
      },
      "outputs": [
        {
          "name": "stdout",
          "output_type": "stream",
          "text": [
            "[[20 21 22 23 24]\n",
            " [ 5  6  7  8  9]\n",
            " [10 11 12 13 14]\n",
            " [15 16 17 18 19]\n",
            " [ 0  1  2  3  4]]\n"
          ]
        }
      ],
      "source": [
        "A = np.arange(25).reshape(5,5)\n",
        "A[[0,4]] = A[[4,0]]\n",
        "print(A)"
      ]
    },
    {
      "cell_type": "markdown",
      "id": "52beda8d",
      "metadata": {},
      "source": [
        "#### 73. Consider a set of 10 triplets describing 10 triangles (with shared vertices), find the set of unique line segments composing all the  triangles (★★★)"
      ]
    },
    {
      "cell_type": "code",
      "execution_count": 348,
      "id": "5b9895de",
      "metadata": {
        "tags": []
      },
      "outputs": [
        {
          "name": "stdout",
          "output_type": "stream",
          "text": [
            "[( 0, 46) ( 0, 59) ( 1, 35) ( 1, 89) ( 9, 38) ( 9, 63) (13, 24) (13, 83)\n",
            " (24, 83) (34, 71) (34, 76) (35, 89) (38, 63) (38, 87) (38, 93) (44, 67)\n",
            " (44, 85) (46, 59) (47, 76) (47, 99) (48, 74) (48, 79) (54, 66) (54, 97)\n",
            " (66, 97) (67, 85) (71, 76) (74, 79) (76, 99) (87, 93)]\n"
          ]
        }
      ],
      "source": [
        "faces = np.random.randint(0,100,(10,3))\n",
        "F = np.roll(faces.repeat(2,axis=1),-1,axis=1)\n",
        "F = F.reshape(len(F)*3,2)\n",
        "F = np.sort(F,axis=1)\n",
        "G = F.view( dtype=[('p0',F.dtype),('p1',F.dtype)] )\n",
        "G = np.unique(G)\n",
        "print(G)"
      ]
    },
    {
      "cell_type": "markdown",
      "id": "b1f8e571",
      "metadata": {},
      "source": [
        "#### 74. Given a sorted array C that corresponds to a bincount, how to produce an array A such that np.bincount(A) == C? (★★★)"
      ]
    },
    {
      "cell_type": "code",
      "execution_count": 349,
      "id": "ea6d42e9",
      "metadata": {
        "tags": []
      },
      "outputs": [
        {
          "name": "stdout",
          "output_type": "stream",
          "text": [
            "[1 1 2 3 4 4 6]\n"
          ]
        }
      ],
      "source": [
        "C = np.bincount([1,1,2,3,4,4,6])\n",
        "A = np.repeat(np.arange(len(C)), C)\n",
        "print(A)"
      ]
    },
    {
      "cell_type": "markdown",
      "id": "db1ed658",
      "metadata": {},
      "source": [
        "#### 75. How to compute averages using a sliding window over an array? (★★★)"
      ]
    },
    {
      "cell_type": "code",
      "execution_count": 352,
      "id": "9dc6a98a",
      "metadata": {
        "tags": []
      },
      "outputs": [
        {
          "name": "stdout",
          "output_type": "stream",
          "text": [
            "[ 1.5  2.5  3.5  4.5  5.5  6.5  7.5  8.5  9.5 10.5 11.5 12.5 13.5 14.5\n",
            " 15.5 16.5 17.5]\n"
          ]
        }
      ],
      "source": [
        "def moving_average(a, n) :\n",
        "    ret = np.cumsum(a, dtype=float)\n",
        "    ret[n:] = ret[n:] - ret[:-n]\n",
        "    return ret[n - 1:] / n\n",
        "\n",
        "vector = np.arange(20)\n",
        "print(moving_average(vector, n=4))"
      ]
    },
    {
      "cell_type": "markdown",
      "id": "1ca35bda",
      "metadata": {},
      "source": [
        "#### 76. Consider a one-dimensional array Z, build a two-dimensional array whose first row is (Z[0],Z[1],Z[2]) and each subsequent row is  shifted by 1 (last row should be (Z[-3],Z[-2],Z[-1]) (★★★)"
      ]
    },
    {
      "cell_type": "code",
      "execution_count": 354,
      "id": "900e8b0a",
      "metadata": {
        "tags": []
      },
      "outputs": [
        {
          "name": "stdout",
          "output_type": "stream",
          "text": [
            "[[0 1 2]\n",
            " [1 2 3]\n",
            " [2 3 4]\n",
            " [3 4 5]\n",
            " [4 5 6]\n",
            " [5 6 7]\n",
            " [6 7 8]\n",
            " [7 8 9]]\n"
          ]
        }
      ],
      "source": [
        "from numpy.lib import stride_tricks\n",
        "\n",
        "def rolling(a, window):\n",
        "    shape = (a.size - window + 1, window)\n",
        "    strides = (a.strides[0], a.strides[0])\n",
        "    return stride_tricks.as_strided(a, shape=shape, strides=strides)\n",
        "vector = rolling(np.arange(10), 3)\n",
        "print(vector)"
      ]
    },
    {
      "cell_type": "markdown",
      "id": "18bd6fab",
      "metadata": {},
      "source": [
        "#### 77. How to negate a boolean, or to change the sign of a float inplace? (★★★)"
      ]
    },
    {
      "cell_type": "code",
      "execution_count": 375,
      "id": "554c5103",
      "metadata": {
        "tags": []
      },
      "outputs": [
        {
          "name": "stdout",
          "output_type": "stream",
          "text": [
            "[-0.3948177  -0.51902953  0.89968683  0.25872312 -0.16149469 -0.80986675\n",
            " -0.77568734 -0.87427464 -0.33144168 -0.37421727]\n",
            "\n",
            "[ 0.3948177   0.51902953 -0.89968683 -0.25872312  0.16149469  0.80986675\n",
            "  0.77568734  0.87427464  0.33144168  0.37421727]\n"
          ]
        }
      ],
      "source": [
        "vector = np.random.uniform(-1.0,1.0,10)\n",
        "print(vector)\n",
        "print()\n",
        "print(np.negative(vector, out=vector))"
      ]
    },
    {
      "cell_type": "markdown",
      "id": "79a5b412",
      "metadata": {},
      "source": [
        "#### 78. Consider 2 sets of points P0,P1 describing lines (2d) and a point p, how to compute distance from p to each line i (P0[i],P1[i])? (★★★)"
      ]
    },
    {
      "cell_type": "code",
      "execution_count": 361,
      "id": "4e4eac2f",
      "metadata": {
        "tags": []
      },
      "outputs": [
        {
          "name": "stdout",
          "output_type": "stream",
          "text": [
            "[5.23123305 1.66992989 7.57434731 6.13086441 1.13637037 2.75820828\n",
            " 2.72684134 6.00132124 3.41228932 4.49037925]\n"
          ]
        }
      ],
      "source": [
        "def distance(P0, P1, p):\n",
        "    T = P1 - P0\n",
        "    L = (T**2).sum(axis=1)\n",
        "    U = -((P0[:,0]-p[...,0])*T[:,0] + (P0[:,1]-p[...,1])*T[:,1]) / L\n",
        "    U = U.reshape(len(U),1)\n",
        "    D = P0 + U*T - p\n",
        "    return np.sqrt((D**2).sum(axis=1))\n",
        "\n",
        "P0 = np.random.uniform(-10,10,(10,2))\n",
        "P1 = np.random.uniform(-10,10,(10,2))\n",
        "p  = np.random.uniform(-10,10,( 1,2))\n",
        "print(distance(P0, P1, p))"
      ]
    },
    {
      "cell_type": "markdown",
      "id": "33ffa66d",
      "metadata": {},
      "source": [
        "#### 79. Consider 2 sets of points P0,P1 describing lines (2d) and a set of points P, how to compute distance from each point j (P[j]) to each line i (P0[i],P1[i])? (★★★)"
      ]
    },
    {
      "cell_type": "code",
      "execution_count": 362,
      "id": "b56c2510",
      "metadata": {
        "tags": []
      },
      "outputs": [
        {
          "name": "stdout",
          "output_type": "stream",
          "text": [
            "[[ 2.88844937  3.95422019  8.28284287  2.16804538  8.21662733  4.72337096\n",
            "   3.07161517  3.91498959 14.51745565  4.93986329]\n",
            " [10.81014881 10.02337254  8.54899653 11.74152274 23.86661225  5.29135633\n",
            "   9.95593583  3.13513289  0.13550447  4.8817454 ]\n",
            " [ 5.79926161  5.78687688  1.8491424   5.68160381  7.28680132  7.58219106\n",
            "   8.03672184  8.32619085  4.35051719  7.13156126]\n",
            " [ 4.22548838  3.33939038  8.5248027   7.64405146  3.86189128  0.19799863\n",
            "   0.4030278   3.20975636 11.93408732  2.2586624 ]\n",
            " [ 2.54426871  1.75379775  7.35339641  5.82438797  5.61765087  0.07735209\n",
            "   0.71858958  2.11218332 11.38354454  1.10062576]\n",
            " [ 5.40318769  5.00726145  4.10946749  5.57227648 17.78157998  5.05051523\n",
            "   8.25531528  0.04112943  2.60653461  1.48506937]\n",
            " [ 0.89487498  1.10522552  1.85461732  0.63871273 11.23251218  2.73310812\n",
            "   4.52925847  1.4992187   7.02439597  0.24416687]\n",
            " [ 5.06486755  5.46810139  2.41933359  2.23792198 13.32437974  0.81266892\n",
            "   1.77171093  3.04882807  9.27494266  4.3198432 ]\n",
            " [ 6.17003353  5.33833248  8.54829942  9.12076735  2.69936216  1.58311352\n",
            "   1.3962992   5.17968973 11.1835078   4.24711629]\n",
            " [ 7.84102424  7.23947536  6.34834451  8.46569421 20.67984022  5.38103974\n",
            "   9.26408918  1.26614549  1.24522222  2.90088306]]\n"
          ]
        }
      ],
      "source": [
        "P0 = np.random.uniform(-10, 10, (10,2))\n",
        "P1 = np.random.uniform(-10,10,(10,2))\n",
        "p = np.random.uniform(-10, 10, (10,2))\n",
        "print(np.array([distance(P0,P1,p_i) for p_i in p]))"
      ]
    },
    {
      "cell_type": "markdown",
      "id": "a0f23dfa",
      "metadata": {
        "jp-MarkdownHeadingCollapsed": true,
        "tags": []
      },
      "source": [
        "#### 80. Consider an arbitrary array, write a function that extract a subpart with a fixed shape and centered on a given element (pad with a `fill` value when necessary) (★★★)"
      ]
    },
    {
      "cell_type": "code",
      "execution_count": null,
      "id": "4b7b96fc",
      "metadata": {
        "tags": []
      },
      "outputs": [],
      "source": []
    },
    {
      "cell_type": "markdown",
      "id": "cc27e944",
      "metadata": {},
      "source": [
        "#### 81. Consider an array Z = [1,2,3,4,5,6,7,8,9,10,11,12,13,14], how to generate an array R = [[1,2,3,4], [2,3,4,5], [3,4,5,6], ..., [11,12,13,14]]? (★★★)"
      ]
    },
    {
      "cell_type": "code",
      "execution_count": 372,
      "id": "2fdaa26c",
      "metadata": {
        "tags": []
      },
      "outputs": [
        {
          "name": "stdout",
          "output_type": "stream",
          "text": [
            "[[ 1  2  3  4]\n",
            " [ 2  3  4  5]\n",
            " [ 3  4  5  6]\n",
            " [ 4  5  6  7]\n",
            " [ 5  6  7  8]\n",
            " [ 6  7  8  9]\n",
            " [ 7  8  9 10]\n",
            " [ 8  9 10 11]\n",
            " [ 9 10 11 12]\n",
            " [10 11 12 13]\n",
            " [11 12 13 14]]\n"
          ]
        }
      ],
      "source": [
        "vector = np.arange(1,15,dtype=np.uint32)\n",
        "stridedMatrix = stride_tricks.as_strided(vector,(11,4),(4,4))\n",
        "print(stridedMatrix)"
      ]
    },
    {
      "cell_type": "markdown",
      "id": "9bc44d6e",
      "metadata": {},
      "source": [
        "#### 82. Compute a matrix rank (★★★)"
      ]
    },
    {
      "cell_type": "code",
      "execution_count": 371,
      "id": "3a4c7564",
      "metadata": {
        "tags": []
      },
      "outputs": [
        {
          "name": "stdout",
          "output_type": "stream",
          "text": [
            "10\n"
          ]
        }
      ],
      "source": [
        "matrix = np.random.uniform(0,1,(10,10))\n",
        "rank = np.linalg.matrix_rank(matrix)\n",
        "print(rank)"
      ]
    },
    {
      "cell_type": "markdown",
      "id": "718a82dd",
      "metadata": {},
      "source": [
        "#### 83. How to find the most frequent value in an array?"
      ]
    },
    {
      "cell_type": "code",
      "execution_count": 376,
      "id": "8ffc513c",
      "metadata": {
        "tags": []
      },
      "outputs": [
        {
          "name": "stdout",
          "output_type": "stream",
          "text": [
            "8\n"
          ]
        }
      ],
      "source": [
        "vector = np.random.randint(0,10,50)\n",
        "print(np.bincount(vector).argmax())"
      ]
    },
    {
      "cell_type": "markdown",
      "id": "754ceeba",
      "metadata": {},
      "source": [
        "#### 84. Extract all the contiguous 3x3 blocks from a random 10x10 matrix (★★★)"
      ]
    },
    {
      "cell_type": "code",
      "execution_count": 383,
      "id": "c32bb120",
      "metadata": {
        "tags": []
      },
      "outputs": [
        {
          "name": "stdout",
          "output_type": "stream",
          "text": [
            "[[2 4 2 4 0 0 3 1 4 2]\n",
            " [0 2 0 2 4 1 0 0 3 0]\n",
            " [4 0 3 1 1 0 4 1 2 1]\n",
            " [1 3 1 1 2 1 4 1 3 1]\n",
            " [4 3 4 0 3 4 4 0 2 0]\n",
            " [3 0 3 2 3 2 4 3 2 3]\n",
            " [2 2 4 0 2 2 4 4 0 2]\n",
            " [2 0 2 4 0 1 4 2 3 4]\n",
            " [0 2 0 1 1 0 2 0 1 2]\n",
            " [4 4 1 4 2 1 0 2 0 1]]\n",
            "\n",
            "[[[[2 4 2]\n",
            "   [0 2 0]\n",
            "   [4 0 3]]\n",
            "\n",
            "  [[4 2 4]\n",
            "   [2 0 2]\n",
            "   [0 3 1]]\n",
            "\n",
            "  [[2 4 0]\n",
            "   [0 2 4]\n",
            "   [3 1 1]]\n",
            "\n",
            "  [[4 0 0]\n",
            "   [2 4 1]\n",
            "   [1 1 0]]\n",
            "\n",
            "  [[0 0 3]\n",
            "   [4 1 0]\n",
            "   [1 0 4]]\n",
            "\n",
            "  [[0 3 1]\n",
            "   [1 0 0]\n",
            "   [0 4 1]]\n",
            "\n",
            "  [[3 1 4]\n",
            "   [0 0 3]\n",
            "   [4 1 2]]\n",
            "\n",
            "  [[1 4 2]\n",
            "   [0 3 0]\n",
            "   [1 2 1]]]\n",
            "\n",
            "\n",
            " [[[0 2 0]\n",
            "   [4 0 3]\n",
            "   [1 3 1]]\n",
            "\n",
            "  [[2 0 2]\n",
            "   [0 3 1]\n",
            "   [3 1 1]]\n",
            "\n",
            "  [[0 2 4]\n",
            "   [3 1 1]\n",
            "   [1 1 2]]\n",
            "\n",
            "  [[2 4 1]\n",
            "   [1 1 0]\n",
            "   [1 2 1]]\n",
            "\n",
            "  [[4 1 0]\n",
            "   [1 0 4]\n",
            "   [2 1 4]]\n",
            "\n",
            "  [[1 0 0]\n",
            "   [0 4 1]\n",
            "   [1 4 1]]\n",
            "\n",
            "  [[0 0 3]\n",
            "   [4 1 2]\n",
            "   [4 1 3]]\n",
            "\n",
            "  [[0 3 0]\n",
            "   [1 2 1]\n",
            "   [1 3 1]]]\n",
            "\n",
            "\n",
            " [[[4 0 3]\n",
            "   [1 3 1]\n",
            "   [4 3 4]]\n",
            "\n",
            "  [[0 3 1]\n",
            "   [3 1 1]\n",
            "   [3 4 0]]\n",
            "\n",
            "  [[3 1 1]\n",
            "   [1 1 2]\n",
            "   [4 0 3]]\n",
            "\n",
            "  [[1 1 0]\n",
            "   [1 2 1]\n",
            "   [0 3 4]]\n",
            "\n",
            "  [[1 0 4]\n",
            "   [2 1 4]\n",
            "   [3 4 4]]\n",
            "\n",
            "  [[0 4 1]\n",
            "   [1 4 1]\n",
            "   [4 4 0]]\n",
            "\n",
            "  [[4 1 2]\n",
            "   [4 1 3]\n",
            "   [4 0 2]]\n",
            "\n",
            "  [[1 2 1]\n",
            "   [1 3 1]\n",
            "   [0 2 0]]]\n",
            "\n",
            "\n",
            " [[[1 3 1]\n",
            "   [4 3 4]\n",
            "   [3 0 3]]\n",
            "\n",
            "  [[3 1 1]\n",
            "   [3 4 0]\n",
            "   [0 3 2]]\n",
            "\n",
            "  [[1 1 2]\n",
            "   [4 0 3]\n",
            "   [3 2 3]]\n",
            "\n",
            "  [[1 2 1]\n",
            "   [0 3 4]\n",
            "   [2 3 2]]\n",
            "\n",
            "  [[2 1 4]\n",
            "   [3 4 4]\n",
            "   [3 2 4]]\n",
            "\n",
            "  [[1 4 1]\n",
            "   [4 4 0]\n",
            "   [2 4 3]]\n",
            "\n",
            "  [[4 1 3]\n",
            "   [4 0 2]\n",
            "   [4 3 2]]\n",
            "\n",
            "  [[1 3 1]\n",
            "   [0 2 0]\n",
            "   [3 2 3]]]\n",
            "\n",
            "\n",
            " [[[4 3 4]\n",
            "   [3 0 3]\n",
            "   [2 2 4]]\n",
            "\n",
            "  [[3 4 0]\n",
            "   [0 3 2]\n",
            "   [2 4 0]]\n",
            "\n",
            "  [[4 0 3]\n",
            "   [3 2 3]\n",
            "   [4 0 2]]\n",
            "\n",
            "  [[0 3 4]\n",
            "   [2 3 2]\n",
            "   [0 2 2]]\n",
            "\n",
            "  [[3 4 4]\n",
            "   [3 2 4]\n",
            "   [2 2 4]]\n",
            "\n",
            "  [[4 4 0]\n",
            "   [2 4 3]\n",
            "   [2 4 4]]\n",
            "\n",
            "  [[4 0 2]\n",
            "   [4 3 2]\n",
            "   [4 4 0]]\n",
            "\n",
            "  [[0 2 0]\n",
            "   [3 2 3]\n",
            "   [4 0 2]]]\n",
            "\n",
            "\n",
            " [[[3 0 3]\n",
            "   [2 2 4]\n",
            "   [2 0 2]]\n",
            "\n",
            "  [[0 3 2]\n",
            "   [2 4 0]\n",
            "   [0 2 4]]\n",
            "\n",
            "  [[3 2 3]\n",
            "   [4 0 2]\n",
            "   [2 4 0]]\n",
            "\n",
            "  [[2 3 2]\n",
            "   [0 2 2]\n",
            "   [4 0 1]]\n",
            "\n",
            "  [[3 2 4]\n",
            "   [2 2 4]\n",
            "   [0 1 4]]\n",
            "\n",
            "  [[2 4 3]\n",
            "   [2 4 4]\n",
            "   [1 4 2]]\n",
            "\n",
            "  [[4 3 2]\n",
            "   [4 4 0]\n",
            "   [4 2 3]]\n",
            "\n",
            "  [[3 2 3]\n",
            "   [4 0 2]\n",
            "   [2 3 4]]]\n",
            "\n",
            "\n",
            " [[[2 2 4]\n",
            "   [2 0 2]\n",
            "   [0 2 0]]\n",
            "\n",
            "  [[2 4 0]\n",
            "   [0 2 4]\n",
            "   [2 0 1]]\n",
            "\n",
            "  [[4 0 2]\n",
            "   [2 4 0]\n",
            "   [0 1 1]]\n",
            "\n",
            "  [[0 2 2]\n",
            "   [4 0 1]\n",
            "   [1 1 0]]\n",
            "\n",
            "  [[2 2 4]\n",
            "   [0 1 4]\n",
            "   [1 0 2]]\n",
            "\n",
            "  [[2 4 4]\n",
            "   [1 4 2]\n",
            "   [0 2 0]]\n",
            "\n",
            "  [[4 4 0]\n",
            "   [4 2 3]\n",
            "   [2 0 1]]\n",
            "\n",
            "  [[4 0 2]\n",
            "   [2 3 4]\n",
            "   [0 1 2]]]\n",
            "\n",
            "\n",
            " [[[2 0 2]\n",
            "   [0 2 0]\n",
            "   [4 4 1]]\n",
            "\n",
            "  [[0 2 4]\n",
            "   [2 0 1]\n",
            "   [4 1 4]]\n",
            "\n",
            "  [[2 4 0]\n",
            "   [0 1 1]\n",
            "   [1 4 2]]\n",
            "\n",
            "  [[4 0 1]\n",
            "   [1 1 0]\n",
            "   [4 2 1]]\n",
            "\n",
            "  [[0 1 4]\n",
            "   [1 0 2]\n",
            "   [2 1 0]]\n",
            "\n",
            "  [[1 4 2]\n",
            "   [0 2 0]\n",
            "   [1 0 2]]\n",
            "\n",
            "  [[4 2 3]\n",
            "   [2 0 1]\n",
            "   [0 2 0]]\n",
            "\n",
            "  [[2 3 4]\n",
            "   [0 1 2]\n",
            "   [2 0 1]]]]\n"
          ]
        }
      ],
      "source": [
        "from numpy.lib.stride_tricks import sliding_window_view\n",
        "vector = np.random.randint(0,5,(10,10))\n",
        "print(vector)\n",
        "print()\n",
        "print(sliding_window_view(vector, window_shape=(3, 3)))"
      ]
    },
    {
      "cell_type": "markdown",
      "id": "9fc0b63a",
      "metadata": {},
      "source": [
        "#### 85. Create a 2D array subclass such that Z[i,j] == Z[j,i] (★★★)"
      ]
    },
    {
      "cell_type": "code",
      "execution_count": 384,
      "id": "c41d0f9b",
      "metadata": {
        "tags": []
      },
      "outputs": [
        {
          "name": "stdout",
          "output_type": "stream",
          "text": [
            "[[ 1 16  3  6  6]\n",
            " [16  5 11  9 16]\n",
            " [ 3 11  3 42 12]\n",
            " [ 6  9 42  7 13]\n",
            " [ 6 16 12 13  7]]\n"
          ]
        }
      ],
      "source": [
        "class Symetric(np.ndarray):\n",
        "    def __setitem__(self, index, value):\n",
        "        i,j = index\n",
        "        super(Symetric, self).__setitem__((i,j), value)\n",
        "        super(Symetric, self).__setitem__((j,i), value)\n",
        "\n",
        "def symetric(Z):\n",
        "    return np.asarray(Z + Z.T - np.diag(Z.diagonal())).view(Symetric)\n",
        "\n",
        "S = symetric(np.random.randint(0,10,(5,5)))\n",
        "S[2,3] = 42\n",
        "print(S)"
      ]
    },
    {
      "cell_type": "markdown",
      "id": "ae909782",
      "metadata": {},
      "source": [
        "#### 86. Consider a set of p matrices wich shape (n,n) and a set of p vectors with shape (n,1). How to compute the sum of of the p matrix products at once? (result has shape (n,1)) (★★★)"
      ]
    },
    {
      "cell_type": "code",
      "execution_count": 385,
      "id": "013944b1",
      "metadata": {
        "tags": []
      },
      "outputs": [
        {
          "name": "stdout",
          "output_type": "stream",
          "text": [
            "[[200.]\n",
            " [200.]\n",
            " [200.]\n",
            " [200.]\n",
            " [200.]\n",
            " [200.]\n",
            " [200.]\n",
            " [200.]\n",
            " [200.]\n",
            " [200.]\n",
            " [200.]\n",
            " [200.]\n",
            " [200.]\n",
            " [200.]\n",
            " [200.]\n",
            " [200.]\n",
            " [200.]\n",
            " [200.]\n",
            " [200.]\n",
            " [200.]]\n"
          ]
        }
      ],
      "source": [
        "p, n = 10, 20\n",
        "M = np.ones((p,n,n))\n",
        "V = np.ones((p,n,1))\n",
        "S = np.tensordot(M, V, axes=[[0, 2], [0, 1]])\n",
        "print(S)"
      ]
    },
    {
      "cell_type": "markdown",
      "id": "5f134bf4",
      "metadata": {},
      "source": [
        "#### 87. Consider a 16x16 array, how to get the block-sum (block size is 4x4)? (★★★)"
      ]
    },
    {
      "cell_type": "code",
      "execution_count": 386,
      "id": "bf480005",
      "metadata": {
        "tags": []
      },
      "outputs": [
        {
          "name": "stdout",
          "output_type": "stream",
          "text": [
            "[[16. 16. 16. 16.]\n",
            " [16. 16. 16. 16.]\n",
            " [16. 16. 16. 16.]\n",
            " [16. 16. 16. 16.]]\n"
          ]
        }
      ],
      "source": [
        "vector = np.ones((16,16))\n",
        "k = 4\n",
        "S = np.add.reduceat(np.add.reduceat(vector, np.arange(0, vector.shape[0], k), axis=0),\n",
        "                                       np.arange(0, vector.shape[1], k), axis=1)\n",
        "print(S)"
      ]
    },
    {
      "cell_type": "markdown",
      "id": "aa91a3be",
      "metadata": {},
      "source": [
        "#### 88. How to implement the Game of Life using numpy arrays? (★★★)"
      ]
    },
    {
      "cell_type": "code",
      "execution_count": 388,
      "id": "a20f0e2b",
      "metadata": {
        "tags": []
      },
      "outputs": [
        {
          "name": "stdout",
          "output_type": "stream",
          "text": [
            "[[0 0 0 0 0 0 0 0 0 0 0 0 0 0 0 0 0 0 0 0 0 0 0 0 0 0 0 0 0 0 0 0 0 0 0 0\n",
            "  0 0 0 0 0 0 0 0 0 0 0 0 0 0]\n",
            " [0 0 0 0 0 0 0 0 0 0 0 0 0 0 0 0 0 0 0 0 0 0 0 0 0 0 0 0 0 0 0 0 0 0 0 0\n",
            "  0 0 0 0 0 0 0 0 0 0 0 0 0 0]\n",
            " [0 0 0 0 0 0 0 0 0 0 0 0 0 0 0 0 0 0 0 0 0 0 0 0 0 0 0 0 0 0 0 0 0 0 0 0\n",
            "  0 0 0 0 0 0 0 0 0 0 0 0 0 0]\n",
            " [0 0 0 0 0 0 0 0 0 0 0 0 0 0 0 0 0 0 0 0 0 0 0 0 0 0 0 0 0 0 0 0 0 0 0 0\n",
            "  0 0 0 0 0 0 0 0 0 0 0 0 0 0]\n",
            " [0 0 0 0 0 0 0 0 0 0 0 0 0 0 0 0 0 0 0 0 0 0 0 0 0 0 0 0 0 0 0 0 0 0 0 0\n",
            "  0 0 0 0 0 0 0 0 0 0 0 0 0 0]\n",
            " [0 0 0 0 0 0 0 0 0 0 0 0 0 0 0 0 0 0 0 0 0 0 0 0 0 0 0 0 0 0 0 0 0 0 0 0\n",
            "  0 0 0 0 0 0 0 0 0 0 0 0 0 0]\n",
            " [0 0 0 0 0 0 0 0 0 0 0 0 0 0 0 0 0 0 0 0 0 0 0 0 0 0 0 0 0 0 0 0 0 0 0 0\n",
            "  0 0 0 0 0 0 0 0 0 0 0 0 0 0]\n",
            " [0 0 0 0 0 0 0 0 0 0 0 0 0 0 0 0 0 0 0 0 0 0 0 0 1 0 0 0 0 0 0 0 0 0 0 0\n",
            "  0 0 0 0 0 0 0 0 0 0 0 0 0 0]\n",
            " [0 0 0 0 0 0 0 1 1 0 0 0 0 0 0 0 0 0 1 1 0 0 0 1 0 1 0 0 0 0 0 0 0 0 0 0\n",
            "  0 0 0 0 0 0 0 0 0 0 0 0 0 0]\n",
            " [0 0 0 0 0 0 0 1 1 0 0 0 0 0 0 0 0 0 1 1 0 0 0 1 1 0 0 0 0 0 0 0 0 0 0 0\n",
            "  0 0 0 0 0 0 0 0 0 0 0 0 0 0]\n",
            " [0 0 0 0 0 0 0 0 0 0 0 0 0 0 0 0 0 0 0 0 0 0 0 0 0 0 0 0 0 0 0 0 0 0 0 0\n",
            "  0 0 0 0 0 0 0 0 0 0 0 0 0 0]\n",
            " [0 0 0 0 0 0 0 0 0 0 0 0 0 0 0 0 0 0 0 0 0 0 0 0 0 0 0 0 0 0 0 0 0 0 1 1\n",
            "  0 0 0 0 0 0 0 0 0 0 0 0 0 0]\n",
            " [0 0 0 0 0 0 0 0 0 0 0 0 0 0 0 0 0 0 0 0 0 0 0 0 0 0 0 0 0 0 0 0 0 1 0 0\n",
            "  1 0 0 0 0 0 0 0 0 0 0 0 0 0]\n",
            " [0 0 0 0 0 0 0 0 0 0 0 0 0 0 0 0 0 0 0 0 0 1 1 0 0 0 0 0 0 0 0 0 0 1 0 0\n",
            "  1 0 0 0 0 0 0 0 0 0 0 0 0 0]\n",
            " [0 0 0 0 0 0 0 0 0 0 0 0 0 0 0 0 0 0 0 0 0 1 1 0 0 0 0 0 0 0 0 0 0 0 1 1\n",
            "  0 0 0 0 0 0 0 0 0 0 0 0 0 0]\n",
            " [0 0 0 0 0 0 0 0 0 0 0 0 0 0 0 0 0 0 0 0 0 0 0 0 0 0 0 0 0 0 0 0 0 0 0 0\n",
            "  0 0 0 0 0 0 0 0 0 0 0 0 0 0]\n",
            " [0 0 0 0 0 0 0 0 0 0 1 0 0 0 0 0 0 0 0 0 0 0 0 0 0 0 0 0 0 0 0 0 0 0 0 0\n",
            "  0 0 0 0 0 0 0 0 0 0 0 0 0 0]\n",
            " [0 0 0 0 1 0 1 1 0 0 1 0 0 0 0 0 0 0 0 0 0 0 0 0 0 0 0 0 0 0 0 0 0 0 0 0\n",
            "  0 0 0 0 0 0 0 0 0 0 0 0 0 0]\n",
            " [0 0 0 0 0 0 1 0 1 1 1 0 0 0 0 0 0 0 0 0 0 0 0 0 0 0 0 1 1 0 0 0 0 0 0 0\n",
            "  0 0 0 0 0 0 0 0 0 0 0 0 0 0]\n",
            " [0 0 0 1 1 0 1 0 1 1 0 0 0 0 0 0 0 0 0 0 0 0 0 0 0 0 1 0 0 1 0 0 0 0 0 0\n",
            "  0 0 0 0 0 0 0 0 0 0 0 0 0 0]\n",
            " [0 0 0 0 0 0 1 1 0 0 0 0 0 0 0 0 0 0 0 0 0 0 0 0 0 0 0 1 0 1 0 0 0 0 0 0\n",
            "  0 0 0 0 0 0 0 0 0 0 0 0 0 0]\n",
            " [0 0 0 0 1 1 1 0 0 0 0 0 0 0 0 0 0 0 0 0 0 0 0 0 0 0 0 0 1 0 0 0 0 0 0 0\n",
            "  0 0 0 0 0 0 0 0 0 0 0 0 0 0]\n",
            " [0 0 0 0 0 0 0 0 0 0 0 0 0 0 0 0 0 0 0 0 0 0 0 0 0 0 0 0 0 0 0 0 0 0 0 0\n",
            "  0 0 0 0 0 0 0 0 0 0 0 0 0 0]\n",
            " [0 0 0 1 1 0 0 0 0 0 0 0 0 0 0 0 0 0 0 0 0 0 0 0 0 0 0 0 0 0 0 0 0 0 0 0\n",
            "  0 0 0 0 0 0 0 0 0 0 0 0 0 0]\n",
            " [0 0 0 0 0 0 0 0 0 0 0 0 0 0 0 0 0 0 0 0 0 0 0 0 0 0 0 0 0 0 0 0 0 0 0 0\n",
            "  0 0 0 0 0 0 0 0 0 0 0 0 0 0]\n",
            " [0 0 0 0 0 0 0 0 0 0 0 0 0 0 0 0 0 0 0 0 0 0 0 0 0 0 0 0 0 0 0 0 0 0 0 0\n",
            "  0 0 0 0 0 0 0 0 0 0 0 0 0 0]\n",
            " [0 0 0 0 0 0 0 0 0 0 0 0 0 0 0 0 0 0 0 0 0 0 0 0 0 0 0 0 0 0 0 0 0 0 0 0\n",
            "  0 0 1 1 0 0 0 0 0 0 1 0 0 0]\n",
            " [0 0 0 0 0 0 0 0 0 0 0 0 0 0 0 0 0 0 0 0 0 0 0 0 0 0 0 0 0 0 0 0 0 0 0 0\n",
            "  0 0 1 1 0 0 0 0 0 1 0 1 0 0]\n",
            " [0 0 0 0 0 0 0 0 0 0 0 0 0 0 1 1 0 0 0 0 0 0 0 0 0 0 0 0 0 0 0 0 0 0 0 0\n",
            "  0 0 0 0 0 0 0 0 0 1 0 1 0 0]\n",
            " [0 0 0 0 0 0 0 0 0 0 0 0 0 0 1 1 0 0 0 0 0 0 0 0 0 0 0 0 0 0 0 0 0 0 0 0\n",
            "  0 0 0 0 0 0 0 0 0 0 1 0 0 0]\n",
            " [0 0 0 0 0 0 0 0 0 1 1 0 0 0 0 0 0 0 0 0 0 0 0 0 0 0 0 0 0 0 0 0 0 0 0 0\n",
            "  0 0 0 0 0 0 0 0 0 0 0 0 0 0]\n",
            " [0 0 0 0 0 0 0 0 0 0 1 0 0 0 0 0 0 0 0 0 0 0 0 0 0 0 0 0 0 0 0 0 0 0 0 0\n",
            "  0 0 0 0 0 0 0 0 0 0 0 0 0 0]\n",
            " [0 0 0 0 0 0 0 0 1 1 1 0 0 0 0 0 0 0 0 0 0 0 0 0 0 0 0 0 0 0 0 0 0 0 0 0\n",
            "  0 0 0 0 0 0 0 0 0 0 0 0 0 0]\n",
            " [0 0 0 0 0 0 0 0 0 0 0 0 0 0 0 0 0 0 0 0 0 0 0 0 0 0 0 0 0 0 0 0 0 0 0 0\n",
            "  0 0 0 0 0 0 0 0 0 0 0 0 0 0]\n",
            " [0 0 0 0 0 0 0 0 0 0 0 0 0 0 0 0 0 0 0 0 0 0 0 0 0 0 0 0 0 0 0 0 0 0 0 0\n",
            "  0 0 0 0 0 0 0 0 0 0 0 0 0 0]\n",
            " [0 0 0 0 0 0 0 0 0 0 0 0 0 0 0 0 0 0 0 0 0 0 0 0 0 0 0 0 0 0 0 0 0 0 0 0\n",
            "  0 0 0 0 0 0 0 0 0 1 1 0 0 0]\n",
            " [0 0 0 0 0 0 0 0 0 0 0 0 0 0 0 0 0 0 0 0 0 0 0 0 0 0 0 0 0 0 0 0 0 0 0 0\n",
            "  0 0 0 0 0 0 1 1 0 1 1 0 0 0]\n",
            " [0 0 0 0 1 0 1 0 0 0 0 0 0 0 0 0 0 0 0 0 0 0 0 0 0 0 0 0 0 0 0 0 0 0 0 0\n",
            "  0 0 0 0 0 0 1 1 0 0 0 0 0 0]\n",
            " [0 0 0 0 1 0 1 1 0 0 0 0 0 0 0 0 0 0 0 0 0 0 0 0 1 0 0 0 0 0 0 0 0 0 0 0\n",
            "  0 0 0 0 0 0 1 1 1 1 1 1 0 0]\n",
            " [0 0 0 1 0 0 0 1 0 1 1 1 1 1 0 0 0 0 0 0 0 0 0 1 1 0 0 0 0 0 0 0 0 0 0 0\n",
            "  0 0 0 0 0 1 1 0 0 1 0 0 0 0]\n",
            " [0 0 0 1 0 0 1 0 1 0 0 0 0 0 1 0 0 0 0 0 0 0 0 1 0 0 0 0 0 0 0 0 0 0 0 0\n",
            "  0 0 0 0 0 1 1 0 0 1 0 0 0 0]\n",
            " [0 0 0 0 1 0 1 1 0 1 1 0 1 1 1 1 0 0 0 0 0 0 0 0 1 0 0 0 0 0 0 0 0 0 0 0\n",
            "  0 0 0 0 0 0 0 0 1 0 1 0 0 0]\n",
            " [0 0 0 0 0 1 0 0 0 0 0 1 0 1 0 0 0 0 0 0 0 0 0 1 0 0 0 0 0 0 0 0 0 0 0 0\n",
            "  0 0 0 0 0 1 0 1 0 0 1 0 0 0]\n",
            " [0 0 0 0 0 0 0 0 0 0 0 0 0 1 0 0 0 1 0 0 0 0 0 1 1 0 0 0 0 0 0 0 0 0 0 0\n",
            "  0 0 0 0 1 0 0 1 0 1 1 0 0 0]\n",
            " [0 0 0 0 0 0 0 0 0 0 0 0 0 1 0 0 0 0 1 0 0 0 0 0 0 0 0 0 0 0 0 0 0 0 0 0\n",
            "  1 1 0 0 1 1 0 1 1 0 0 0 0 0]\n",
            " [0 0 0 0 0 0 0 0 0 0 0 0 1 1 0 1 0 1 0 0 0 0 0 0 0 0 0 0 0 0 0 0 0 0 0 0\n",
            "  1 1 0 0 0 1 0 1 0 0 0 0 0 0]\n",
            " [0 0 0 0 0 0 0 0 0 0 0 0 1 0 0 0 1 0 0 0 0 0 0 0 0 0 0 0 0 0 0 0 0 0 0 0\n",
            "  0 0 0 0 0 0 1 0 0 0 0 0 0 0]\n",
            " [0 0 0 0 0 0 0 0 0 0 0 0 0 0 0 0 0 0 0 0 0 0 0 0 0 0 0 0 0 0 0 0 0 0 0 0\n",
            "  0 0 0 0 0 0 0 0 0 0 0 0 0 0]\n",
            " [0 0 0 0 0 0 0 0 0 0 0 0 0 0 0 0 0 0 0 0 0 0 0 0 0 0 0 0 0 0 0 0 0 0 0 0\n",
            "  0 0 0 0 0 0 0 0 0 0 0 0 0 0]\n",
            " [0 0 0 0 0 0 0 0 0 0 0 0 0 0 0 0 0 0 0 0 0 0 0 0 0 0 0 0 0 0 0 0 0 0 0 0\n",
            "  0 0 0 0 0 0 0 0 0 0 0 0 0 0]]\n"
          ]
        }
      ],
      "source": [
        "def iterate(vector):\n",
        "    N = (vector[0:-2,0:-2] + vector[0:-2,1:-1] + vector[0:-2,2:] +\n",
        "         vector[1:-1,0:-2]                + vector[1:-1,2:] +\n",
        "         vector[2:  ,0:-2] + vector[2:  ,1:-1] + vector[2:  ,2:])\n",
        "\n",
        "    birth = (N==3) & (vector[1:-1,1:-1]==0)\n",
        "    survive = ((N==2) | (N==3)) & (vector[1:-1,1:-1]==1)\n",
        "    vector[...] = 0\n",
        "    vector[1:-1,1:-1][birth | survive] = 1\n",
        "    return vector\n",
        "\n",
        "vector = np.random.randint(0,2,(50,50))\n",
        "for i in range(100): vector = iterate(vector)\n",
        "print(vector)"
      ]
    },
    {
      "cell_type": "markdown",
      "id": "885023d9",
      "metadata": {},
      "source": [
        "#### 89. How to get the n largest values of an array (★★★)"
      ]
    },
    {
      "cell_type": "code",
      "execution_count": 390,
      "id": "996ab585",
      "metadata": {
        "tags": []
      },
      "outputs": [
        {
          "name": "stdout",
          "output_type": "stream",
          "text": [
            "[9990 9991 9992 9993 9994 9995 9996 9997 9998 9999]\n",
            "[9992 9996 9993 9998 9991 9994 9995 9997 9999 9990]\n"
          ]
        }
      ],
      "source": [
        "vector = np.arange(10000)\n",
        "np.random.shuffle(Z)\n",
        "n = 10\n",
        "print(vector[np.argsort(vector)[-n:]])\n",
        "print(vector[np.argpartition(-vector,n)[:n]])"
      ]
    },
    {
      "cell_type": "markdown",
      "id": "d0518aeb",
      "metadata": {},
      "source": [
        "#### 90. Given an arbitrary number of vectors, build the cartesian product (every combinations of every item) (★★★)"
      ]
    },
    {
      "cell_type": "code",
      "execution_count": 391,
      "id": "d9ae30ca",
      "metadata": {
        "tags": []
      },
      "outputs": [
        {
          "name": "stdout",
          "output_type": "stream",
          "text": [
            "[[1 4 6]\n",
            " [1 4 7]\n",
            " [1 5 6]\n",
            " [1 5 7]\n",
            " [2 4 6]\n",
            " [2 4 7]\n",
            " [2 5 6]\n",
            " [2 5 7]\n",
            " [3 4 6]\n",
            " [3 4 7]\n",
            " [3 5 6]\n",
            " [3 5 7]]\n"
          ]
        }
      ],
      "source": [
        "def cartesian(arrays):\n",
        "    arrays = [np.asarray(a) for a in arrays]\n",
        "    shape = (len(x) for x in arrays)\n",
        "\n",
        "    ix = np.indices(shape, dtype=int)\n",
        "    ix = ix.reshape(len(arrays), -1).T\n",
        "\n",
        "    for n, arr in enumerate(arrays):\n",
        "        ix[:, n] = arrays[n][ix[:, n]]\n",
        "\n",
        "    return ix\n",
        "\n",
        "print (cartesian(([1, 2, 3], [4, 5], [6, 7])))"
      ]
    },
    {
      "cell_type": "markdown",
      "id": "20cc5dc6",
      "metadata": {},
      "source": [
        "#### 91. How to create a record array from a regular array? (★★★)"
      ]
    },
    {
      "cell_type": "code",
      "execution_count": 392,
      "id": "a7d05a34",
      "metadata": {
        "tags": []
      },
      "outputs": [
        {
          "name": "stdout",
          "output_type": "stream",
          "text": [
            "[(b'Hello', 2.5, 3) (b'World', 3.6, 2)]\n"
          ]
        }
      ],
      "source": [
        "vector = np.array([(\"Hello\", 2.5, 3),\n",
        "              (\"World\", 3.6, 2)])\n",
        "record = np.core.records.fromarrays(vector.T,\n",
        "                               names='col1, col2, col3',\n",
        "                               formats = 'S8, f8, i8')\n",
        "print(record)"
      ]
    },
    {
      "cell_type": "markdown",
      "id": "e59a2c44",
      "metadata": {},
      "source": [
        "#### 92. Consider a large vector Z, compute Z to the power of 3 using 3 different methods (★★★)"
      ]
    },
    {
      "cell_type": "code",
      "execution_count": 397,
      "id": "916168ea",
      "metadata": {
        "tags": []
      },
      "outputs": [
        {
          "name": "stdout",
          "output_type": "stream",
          "text": [
            "153 ms ± 1.81 ms per loop (mean ± std. dev. of 7 runs, 10 loops each)\n",
            "22.1 ms ± 371 µs per loop (mean ± std. dev. of 7 runs, 10 loops each)\n",
            "13.8 ms ± 358 µs per loop (mean ± std. dev. of 7 runs, 100 loops each)\n"
          ]
        }
      ],
      "source": [
        "x = np.random.rand(int(5e6))\n",
        "\n",
        "%timeit np.power(x,3)\n",
        "%timeit x*x*x\n",
        "%timeit np.einsum('i,i,i->i',x,x,x)"
      ]
    },
    {
      "cell_type": "markdown",
      "id": "f1fc4b70",
      "metadata": {},
      "source": [
        "#### 93. Consider two arrays A and B of shape (8,3) and (2,2). How to find rows of A that contain elements of each row of B regardless of the order of the elements in B? (★★★)"
      ]
    },
    {
      "cell_type": "code",
      "execution_count": 398,
      "id": "d35b4705",
      "metadata": {
        "tags": []
      },
      "outputs": [
        {
          "name": "stdout",
          "output_type": "stream",
          "text": [
            "[0 1 2 3 5 6]\n"
          ]
        }
      ],
      "source": [
        "A = np.random.randint(0,5,(8,3))\n",
        "B = np.random.randint(0,5,(2,2))\n",
        "\n",
        "C = (A[..., np.newaxis, np.newaxis] == B)\n",
        "rows = np.where(C.any((3,1)).all(1))[0]\n",
        "print(rows)"
      ]
    },
    {
      "cell_type": "markdown",
      "id": "821a6ce8",
      "metadata": {},
      "source": [
        "#### 94. Considering a 10x3 matrix, extract rows with unequal values (e.g. [2,2,3]) (★★★)"
      ]
    },
    {
      "cell_type": "code",
      "execution_count": 400,
      "id": "5690c131",
      "metadata": {
        "tags": []
      },
      "outputs": [
        {
          "name": "stdout",
          "output_type": "stream",
          "text": [
            "[[2 2 4]\n",
            " [3 4 3]\n",
            " [2 3 3]\n",
            " [4 3 1]\n",
            " [0 0 4]\n",
            " [2 4 0]\n",
            " [3 0 3]\n",
            " [1 4 1]\n",
            " [4 3 2]\n",
            " [1 0 4]]\n",
            "[[2 2 4]\n",
            " [3 4 3]\n",
            " [2 3 3]\n",
            " [4 3 1]\n",
            " [0 0 4]\n",
            " [2 4 0]\n",
            " [3 0 3]\n",
            " [1 4 1]\n",
            " [4 3 2]\n",
            " [1 0 4]]\n",
            "[[2 2 4]\n",
            " [3 4 3]\n",
            " [2 3 3]\n",
            " [4 3 1]\n",
            " [0 0 4]\n",
            " [2 4 0]\n",
            " [3 0 3]\n",
            " [1 4 1]\n",
            " [4 3 2]\n",
            " [1 0 4]]\n"
          ]
        }
      ],
      "source": [
        "matrix = np.random.randint(0,5,(10,3))\n",
        "print(matrix)\n",
        "\n",
        "E = np.all(matrix[:,1:] == matrix[:,:-1], axis=1)\n",
        "U = matrix[~E]\n",
        "print(U)\n",
        "U = matrix[matrix.max(axis=1) != matrix.min(axis=1),:]\n",
        "print(U)"
      ]
    },
    {
      "cell_type": "markdown",
      "id": "9dc9a61c",
      "metadata": {},
      "source": [
        "#### 95. Convert a vector of ints into a matrix binary representation (★★★)"
      ]
    },
    {
      "cell_type": "code",
      "execution_count": 401,
      "id": "c728306f",
      "metadata": {
        "tags": []
      },
      "outputs": [
        {
          "name": "stdout",
          "output_type": "stream",
          "text": [
            "[[0 0 0 0 0 0 0 0]\n",
            " [0 0 0 0 0 0 0 1]\n",
            " [0 0 0 0 0 0 1 0]\n",
            " [0 0 0 0 0 0 1 1]\n",
            " [0 0 0 0 1 1 1 1]\n",
            " [0 0 0 1 0 0 0 0]\n",
            " [0 0 1 0 0 0 0 0]\n",
            " [0 1 0 0 0 0 0 0]\n",
            " [1 0 0 0 0 0 0 0]]\n"
          ]
        }
      ],
      "source": [
        "intVector = np.array([0, 1, 2, 3, 15, 16, 32, 64, 128], dtype=np.uint8)\n",
        "print(np.unpackbits(intVector[:, np.newaxis], axis=1))"
      ]
    },
    {
      "cell_type": "markdown",
      "id": "cca48e6e",
      "metadata": {},
      "source": [
        "#### 96. Given a two dimensional array, how to extract unique rows? (★★★)"
      ]
    },
    {
      "cell_type": "code",
      "execution_count": 402,
      "id": "ae2e6484",
      "metadata": {
        "tags": []
      },
      "outputs": [
        {
          "name": "stdout",
          "output_type": "stream",
          "text": [
            "[[0 0 1]\n",
            " [0 1 0]\n",
            " [0 1 1]\n",
            " [1 0 0]\n",
            " [1 0 1]\n",
            " [1 1 1]]\n"
          ]
        }
      ],
      "source": [
        "matrix = np.random.randint(0,2,(6,3))\n",
        "uniqueMatrix = np.unique(matrix, axis=0)\n",
        "print(uniqueMatrix)"
      ]
    },
    {
      "cell_type": "markdown",
      "id": "3621d474",
      "metadata": {},
      "source": [
        "#### 97. Considering 2 vectors A & B, write the einsum equivalent of inner, outer, sum, and mul function (★★★)"
      ]
    },
    {
      "cell_type": "code",
      "execution_count": 403,
      "id": "09238dfb",
      "metadata": {
        "tags": []
      },
      "outputs": [
        {
          "data": {
            "text/plain": [
              "array([[0.17864169, 0.01069083, 0.08559957, 0.05122869, 0.093887  ,\n",
              "        0.01645558, 0.05053881, 0.04341809, 0.08745473, 0.02039859],\n",
              "       [0.81655555, 0.04886687, 0.39126813, 0.23416187, 0.42914929,\n",
              "        0.075217  , 0.23100849, 0.19846032, 0.39974795, 0.09324016],\n",
              "       [0.34832873, 0.02084578, 0.16690834, 0.09988948, 0.1830678 ,\n",
              "        0.03208629, 0.0985443 , 0.0846598 , 0.17052569, 0.03977467],\n",
              "       [0.37319231, 0.02233374, 0.1788222 , 0.10701955, 0.19613511,\n",
              "        0.0343766 , 0.10557836, 0.09070279, 0.18269775, 0.04261377],\n",
              "       [0.28467429, 0.01703637, 0.1364071 , 0.08163543, 0.14961354,\n",
              "        0.02622277, 0.08053607, 0.06918886, 0.13936341, 0.03250615],\n",
              "       [0.13240509, 0.0079238 , 0.06344442, 0.03796952, 0.06958688,\n",
              "        0.01219649, 0.0374582 , 0.03218049, 0.06481943, 0.01511896],\n",
              "       [0.60110862, 0.03597342, 0.28803264, 0.17237862, 0.31591891,\n",
              "        0.05537111, 0.17005726, 0.14609687, 0.29427507, 0.06863889],\n",
              "       [0.09641016, 0.00576968, 0.04619676, 0.02764733, 0.05066936,\n",
              "        0.00888082, 0.02727501, 0.02343207, 0.04719797, 0.0110088 ],\n",
              "       [0.84927543, 0.05082499, 0.40694649, 0.24354488, 0.44634557,\n",
              "        0.07823099, 0.24026514, 0.20641275, 0.4157661 , 0.09697636],\n",
              "       [0.11510146, 0.00688826, 0.05515306, 0.0330074 , 0.06049277,\n",
              "        0.01060257, 0.0325629 , 0.02797492, 0.05634837, 0.01314311]])"
            ]
          },
          "execution_count": 403,
          "metadata": {},
          "output_type": "execute_result"
        }
      ],
      "source": [
        "A = np.random.uniform(0,1,10)\n",
        "B = np.random.uniform(0,1,10)\n",
        "\n",
        "np.einsum('i->', A)       # np.sum(A)\n",
        "np.einsum('i,i->i', A, B) # A * B\n",
        "np.einsum('i,i', A, B)    # np.inner(A, B)\n",
        "np.einsum('i,j->ij', A, B)    # np.outer(A, B)"
      ]
    },
    {
      "cell_type": "markdown",
      "id": "26162fae",
      "metadata": {},
      "source": [
        "#### 98. Considering a path described by two vectors (X,Y), how to sample it using equidistant samples (★★★)?"
      ]
    },
    {
      "cell_type": "code",
      "execution_count": 404,
      "id": "283c279f",
      "metadata": {
        "tags": []
      },
      "outputs": [],
      "source": [
        "phi = np.arange(0, 10*np.pi, 0.1)\n",
        "a = 1\n",
        "x = a*phi*np.cos(phi)\n",
        "y = a*phi*np.sin(phi)\n",
        "\n",
        "dr = (np.diff(x)**2 + np.diff(y)**2)**.5 \n",
        "r = np.zeros_like(x)\n",
        "r[1:] = np.cumsum(dr)               \n",
        "r_int = np.linspace(0, r.max(), 200)\n",
        "x_int = np.interp(r_int, r, x)      \n",
        "y_int = np.interp(r_int, r, y)"
      ]
    },
    {
      "cell_type": "markdown",
      "id": "44b20c57",
      "metadata": {},
      "source": [
        "#### 99. Given an integer n and a 2D array X, select from X the rows which can be interpreted as draws from a multinomial distribution with n degrees, i.e., the rows which only contain integers and which sum to n. (★★★)"
      ]
    },
    {
      "cell_type": "code",
      "execution_count": 413,
      "id": "389b7190",
      "metadata": {
        "tags": []
      },
      "outputs": [
        {
          "name": "stdout",
          "output_type": "stream",
          "text": [
            "[[2. 0. 1. 1.]]\n"
          ]
        }
      ],
      "source": [
        "X = np.asarray([[4.0, 2.0, 3.0, 8.0],\n",
        "                [2.0, 0.0, 1.0, 1.0],\n",
        "                [1.5, 2.5, 1.0, 0.0]])\n",
        "n = 4\n",
        "M = np.logical_and.reduce(np.mod(X, 1) == 0, axis=-1)\n",
        "M &= (X.sum(axis=-1) == n)\n",
        "print(X[M])"
      ]
    },
    {
      "cell_type": "markdown",
      "id": "6fa5ed76",
      "metadata": {},
      "source": [
        "#### 100. Compute bootstrapped 95% confidence intervals for the mean of a 1D array X (i.e., resample the elements of an array with replacement N times, compute the mean of each sample, and then compute percentiles over the means). (★★★)"
      ]
    },
    {
      "cell_type": "code",
      "execution_count": 407,
      "id": "4db4cc57",
      "metadata": {
        "tags": []
      },
      "outputs": [
        {
          "name": "stdout",
          "output_type": "stream",
          "text": [
            "[0.00249408 0.37115575]\n"
          ]
        }
      ],
      "source": [
        "X = np.random.randn(100) # random 1D array\n",
        "N = 1000 # number of bootstrap samples\n",
        "idx = np.random.randint(0, X.size, (N, X.size))\n",
        "means = X[idx].mean(axis=1)\n",
        "confint = np.percentile(means, [2.5, 97.5])\n",
        "print(confint)"
      ]
    },
    {
      "cell_type": "code",
      "execution_count": null,
      "id": "49fc7ff7-2fdf-45ad-88c7-a914e8903430",
      "metadata": {},
      "outputs": [],
      "source": []
    }
  ],
  "metadata": {
    "kernelspec": {
      "display_name": "Python 3 (ipykernel)",
      "language": "python",
      "name": "python3"
    },
    "language_info": {
      "codemirror_mode": {
        "name": "ipython",
        "version": 3
      },
      "file_extension": ".py",
      "mimetype": "text/x-python",
      "name": "python",
      "nbconvert_exporter": "python",
      "pygments_lexer": "ipython3",
      "version": "3.11.2"
    }
  },
  "nbformat": 4,
  "nbformat_minor": 5
}
